{
 "cells": [
  {
   "cell_type": "markdown",
   "metadata": {},
   "source": [
    "Load new data:"
   ]
  },
  {
   "cell_type": "code",
   "execution_count": 2,
   "metadata": {},
   "outputs": [],
   "source": [
    "import dataloader\n",
    "import tomotopy as tp\n",
    "from itertools import chain\n",
    "import tqdm\n",
    "import pandas as pd\n",
    "import numpy as np"
   ]
  },
  {
   "cell_type": "code",
   "execution_count": 8,
   "metadata": {},
   "outputs": [
    {
     "name": "stderr",
     "output_type": "stream",
     "text": [
      "  1%|          | 14057/2038753 [00:00<00:28, 69868.77it/s]"
     ]
    },
    {
     "name": "stdout",
     "output_type": "stream",
     "text": [
      "Filtering subset...\n"
     ]
    },
    {
     "name": "stderr",
     "output_type": "stream",
     "text": [
      "100%|██████████| 2038753/2038753 [00:29<00:00, 69807.49it/s]\n",
      "  1%|▏         | 726/57015 [00:00<00:07, 7250.33it/s]"
     ]
    },
    {
     "name": "stdout",
     "output_type": "stream",
     "text": [
      "Tokenizing sentences...\n"
     ]
    },
    {
     "name": "stderr",
     "output_type": "stream",
     "text": [
      "100%|██████████| 57015/57015 [00:08<00:00, 6391.88it/s] \n",
      " 20%|██        | 11413/57015 [00:00<00:00, 114119.50it/s]"
     ]
    },
    {
     "name": "stdout",
     "output_type": "stream",
     "text": [
      "Normalizing...\n"
     ]
    },
    {
     "name": "stderr",
     "output_type": "stream",
     "text": [
      "100%|██████████| 57015/57015 [00:00<00:00, 124927.12it/s]\n",
      "  1%|          | 439/57015 [00:00<00:13, 4351.50it/s]"
     ]
    },
    {
     "name": "stdout",
     "output_type": "stream",
     "text": [
      "Tokenizing sentences into words...\n"
     ]
    },
    {
     "name": "stderr",
     "output_type": "stream",
     "text": [
      "100%|██████████| 57015/57015 [00:16<00:00, 3487.62it/s]\n"
     ]
    }
   ],
   "source": [
    "POSTPATH = './Data/crowd/train/shared_task_posts.csv'\n",
    "LABELPATH = './Data/crowd/train/crowd_train.csv'\n",
    "USERPATH = './Data/crowd/train/task_C_train.posts.csv'\n",
    "\n",
    "users = dataloader.load_user_subset_from_train(USERPATH, subset = 1000)\n",
    "    \n",
    "user_to_post, post_to_words, post_to_metadata = dataloader.load_posts(POSTPATH, user_subset = users)\n",
    "post_to_label = dataloader.load_classification(LABELPATH, user_to_post, post_to_words, post_to_metadata)\n",
    "filtered_data, sw_posts, sw_timestamps = dataloader.filter_posts(post_to_label, post_to_metadata)\n",
    "\n",
    "filtered_data = dataloader.filter_stopwords(filtered_data)\n",
    "sw_posts = dataloader.filter_stopwords(sw_posts)\n",
    "\n",
    "FOLDERPATH = './Processing/crowd_processed/'\n",
    "dataloader.save_to_folder(FOLDERPATH, user_to_post, post_to_metadata, filtered_data, sw_posts, sw_timestamps)"
   ]
  },
  {
   "cell_type": "markdown",
   "metadata": {},
   "source": [
    "Load existing Data:"
   ]
  },
  {
   "cell_type": "code",
   "execution_count": 3,
   "metadata": {},
   "outputs": [],
   "source": [
    "FOLDERPATH = './Processing/crowd_processed/'\n",
    "user_to_post, post_to_metadata, filtered_data, sw_posts, sw_timestamps = dataloader.load_from_folder(FOLDERPATH)\n",
    "filtered_data = dataloader.filter_stopwords(filtered_data)\n",
    "sw_posts = dataloader.filter_stopwords(sw_posts)"
   ]
  },
  {
   "cell_type": "code",
   "execution_count": 11,
   "metadata": {},
   "outputs": [
    {
     "name": "stderr",
     "output_type": "stream",
     "text": [
      "100%|██████████| 55255/55255 [00:00<00:00, 93909.05it/s]\n"
     ]
    },
    {
     "name": "stdout",
     "output_type": "stream",
     "text": [
      "Iteration: 0\tLog-likelihood: -10.347582116250646\n",
      "Iteration: 100\tLog-likelihood: -9.317130772595707\n",
      "Iteration: 200\tLog-likelihood: -9.211626170340445\n",
      "Iteration: 300\tLog-likelihood: -9.170996120587702\n",
      "Iteration: 400\tLog-likelihood: -9.14813595326642\n",
      "Iteration: 500\tLog-likelihood: -9.131948165019477\n",
      "Iteration: 600\tLog-likelihood: -9.118063947763508\n",
      "Iteration: 700\tLog-likelihood: -9.11108379192932\n",
      "Iteration: 800\tLog-likelihood: -9.111597682879996\n",
      "Iteration: 900\tLog-likelihood: -9.105244334403562\n",
      "Training Finished\n"
     ]
    }
   ],
   "source": [
    "mdl = tp.SLDAModel(k=40, vars=['b'])\n",
    "for data in tqdm.tqdm(filtered_data.keys()):\n",
    "    mdl.add_doc(chain.from_iterable(filtered_data[data][1]), [1 if filtered_data[data][2] == 'd' else 0])\n",
    "\n",
    "for i in range(0, 1000, 10):\n",
    "    mdl.train(10)\n",
    "    if (i % 100 == 0):\n",
    "        print('Iteration: {}\\tLog-likelihood: {}'.format(i, mdl.ll_per_word))\n",
    "print(\"Training Finished\")"
   ]
  },
  {
   "cell_type": "code",
   "execution_count": 12,
   "metadata": {},
   "outputs": [
    {
     "data": {
      "text/html": [
       "<div>\n",
       "<style scoped>\n",
       "    .dataframe tbody tr th:only-of-type {\n",
       "        vertical-align: middle;\n",
       "    }\n",
       "\n",
       "    .dataframe tbody tr th {\n",
       "        vertical-align: top;\n",
       "    }\n",
       "\n",
       "    .dataframe thead th {\n",
       "        text-align: right;\n",
       "    }\n",
       "</style>\n",
       "<table border=\"1\" class=\"dataframe\">\n",
       "  <thead>\n",
       "    <tr style=\"text-align: right;\">\n",
       "      <th></th>\n",
       "      <th>Topic</th>\n",
       "      <th>Suicidality Coefficient</th>\n",
       "    </tr>\n",
       "  </thead>\n",
       "  <tbody>\n",
       "    <tr>\n",
       "      <th>0</th>\n",
       "      <td>bike, car, new, road, ride, around, city, bike...</td>\n",
       "      <td>-4.5724358558654785</td>\n",
       "    </tr>\n",
       "    <tr>\n",
       "      <th>1</th>\n",
       "      <td>url, us, min, survey, person, gt95, study, sho...</td>\n",
       "      <td>-4.415285587310791</td>\n",
       "    </tr>\n",
       "    <tr>\n",
       "      <th>2</th>\n",
       "      <td>person, big, babes, porn, f, girl, sexy, xpost...</td>\n",
       "      <td>-4.101504325866699</td>\n",
       "    </tr>\n",
       "    <tr>\n",
       "      <th>3</th>\n",
       "      <td>’, ”, “, person, ‘, –, gun, 10, top, pistol, r...</td>\n",
       "      <td>-4.050198078155518</td>\n",
       "    </tr>\n",
       "    <tr>\n",
       "      <th>4</th>\n",
       "      <td>͡°, ͜ʖ, battery, person, high, screen, vs, low...</td>\n",
       "      <td>-3.8141653537750244</td>\n",
       "    </tr>\n",
       "    <tr>\n",
       "      <th>5</th>\n",
       "      <td>english, live, webcam, language, sexy, word, g...</td>\n",
       "      <td>-3.1262660026550293</td>\n",
       "    </tr>\n",
       "    <tr>\n",
       "      <th>6</th>\n",
       "      <td>phone, app, person, use, iphone, mobile, apps,...</td>\n",
       "      <td>-2.8841357231140137</td>\n",
       "    </tr>\n",
       "    <tr>\n",
       "      <th>7</th>\n",
       "      <td>2, person, x, 2url, editionurl, 3, game, dont,...</td>\n",
       "      <td>-2.4462270736694336</td>\n",
       "    </tr>\n",
       "    <tr>\n",
       "      <th>8</th>\n",
       "      <td>person, us, state, new, police, states, countr...</td>\n",
       "      <td>-2.4319872856140137</td>\n",
       "    </tr>\n",
       "    <tr>\n",
       "      <th>9</th>\n",
       "      <td>person, humble, w, bundle, keys, h, mail, 2, o...</td>\n",
       "      <td>-2.386512279510498</td>\n",
       "    </tr>\n",
       "    <tr>\n",
       "      <th>10</th>\n",
       "      <td>person, persons, vs, amp, 1, character, man, 2...</td>\n",
       "      <td>-2.2894787788391113</td>\n",
       "    </tr>\n",
       "    <tr>\n",
       "      <th>11</th>\n",
       "      <td>person, music, song, songs, band, sound, guita...</td>\n",
       "      <td>-2.2134947776794434</td>\n",
       "    </tr>\n",
       "    <tr>\n",
       "      <th>12</th>\n",
       "      <td>person, iv, 5, 0, 4, one, pokemon, 1, 2, lf, t...</td>\n",
       "      <td>-2.1280863285064697</td>\n",
       "    </tr>\n",
       "    <tr>\n",
       "      <th>13</th>\n",
       "      <td>person, people, god, believe, gay, religious, ...</td>\n",
       "      <td>-2.029388427734375</td>\n",
       "    </tr>\n",
       "    <tr>\n",
       "      <th>14</th>\n",
       "      <td>person, build, power, video, card, cpu, pc, at...</td>\n",
       "      <td>-1.9144318103790283</td>\n",
       "    </tr>\n",
       "    <tr>\n",
       "      <th>15</th>\n",
       "      <td>game, play, games, playing, person, team, play...</td>\n",
       "      <td>-1.8500615358352661</td>\n",
       "    </tr>\n",
       "    <tr>\n",
       "      <th>16</th>\n",
       "      <td>hair, wear, look, color, blue, black, red, sty...</td>\n",
       "      <td>-1.7709540128707886</td>\n",
       "    </tr>\n",
       "    <tr>\n",
       "      <th>17</th>\n",
       "      <td>eat, weight, food, day, eating, week, fat, im,...</td>\n",
       "      <td>-1.7324720621109009</td>\n",
       "    </tr>\n",
       "    <tr>\n",
       "      <th>18</th>\n",
       "      <td>post, please, reddit, subreddit, url, person, ...</td>\n",
       "      <td>-1.711248755455017</td>\n",
       "    </tr>\n",
       "    <tr>\n",
       "      <th>19</th>\n",
       "      <td>person, pokemon, games, set, new, great, box, ...</td>\n",
       "      <td>-1.71116304397583</td>\n",
       "    </tr>\n",
       "    <tr>\n",
       "      <th>20</th>\n",
       "      <td>money, pay, buy, get, sell, person, price, acc...</td>\n",
       "      <td>-1.699993371963501</td>\n",
       "    </tr>\n",
       "    <tr>\n",
       "      <th>21</th>\n",
       "      <td>like, back, one, room, around, get, water, rig...</td>\n",
       "      <td>-1.673421859741211</td>\n",
       "    </tr>\n",
       "    <tr>\n",
       "      <th>22</th>\n",
       "      <td>world, war, person, would, earth, life, us, ma...</td>\n",
       "      <td>-1.5550025701522827</td>\n",
       "    </tr>\n",
       "    <tr>\n",
       "      <th>23</th>\n",
       "      <td>sex, girl, women, girls, men, female, sexual, ...</td>\n",
       "      <td>-1.4986618757247925</td>\n",
       "    </tr>\n",
       "    <tr>\n",
       "      <th>24</th>\n",
       "      <td>school, im, job, work, college, year, class, s...</td>\n",
       "      <td>-1.417787790298462</td>\n",
       "    </tr>\n",
       "    <tr>\n",
       "      <th>25</th>\n",
       "      <td>person, video, show, book, story, watch, ever,...</td>\n",
       "      <td>-1.4049659967422485</td>\n",
       "    </tr>\n",
       "    <tr>\n",
       "      <th>26</th>\n",
       "      <td>person, gt, ps4, psn, vog, fresh, xb1, hm, inv...</td>\n",
       "      <td>-1.3286679983139038</td>\n",
       "    </tr>\n",
       "    <tr>\n",
       "      <th>27</th>\n",
       "      <td>would, one, like, think, could, people, time, ...</td>\n",
       "      <td>-1.3065143823623657</td>\n",
       "    </tr>\n",
       "    <tr>\n",
       "      <th>28</th>\n",
       "      <td>person, new, retail, poker, sold, 2, calls, 30...</td>\n",
       "      <td>-1.2932273149490356</td>\n",
       "    </tr>\n",
       "    <tr>\n",
       "      <th>29</th>\n",
       "      <td>person, damage, game, level, use, get, team, r...</td>\n",
       "      <td>-1.2830308675765991</td>\n",
       "    </tr>\n",
       "    <tr>\n",
       "      <th>30</th>\n",
       "      <td>got, time, didnt, back, first, said, last, one...</td>\n",
       "      <td>-1.1424610614776611</td>\n",
       "    </tr>\n",
       "    <tr>\n",
       "      <th>31</th>\n",
       "      <td>computer, help, anyone, problem, ive, game, tr...</td>\n",
       "      <td>-0.9632527828216553</td>\n",
       "    </tr>\n",
       "    <tr>\n",
       "      <th>32</th>\n",
       "      <td>love, person, im, looking, na, new, like, woul...</td>\n",
       "      <td>-0.9002686142921448</td>\n",
       "    </tr>\n",
       "    <tr>\n",
       "      <th>33</th>\n",
       "      <td>1, 2, person, 3, 4, 5, 0, player, 6, x, 10, bo...</td>\n",
       "      <td>-0.8318637013435364</td>\n",
       "    </tr>\n",
       "    <tr>\n",
       "      <th>34</th>\n",
       "      <td>old, year, family, mom, baby, parents, dog, ho...</td>\n",
       "      <td>-0.778836727142334</td>\n",
       "    </tr>\n",
       "    <tr>\n",
       "      <th>35</th>\n",
       "      <td>im, would, like, help, ive, know, need, anyone...</td>\n",
       "      <td>-0.5956284999847412</td>\n",
       "    </tr>\n",
       "    <tr>\n",
       "      <th>36</th>\n",
       "      <td>person, deck, contest, cards, oc, dragon, gift...</td>\n",
       "      <td>-0.5775940418243408</td>\n",
       "    </tr>\n",
       "    <tr>\n",
       "      <th>37</th>\n",
       "      <td>im, like, dont, know, get, people, really, thi...</td>\n",
       "      <td>-0.3882521092891693</td>\n",
       "    </tr>\n",
       "    <tr>\n",
       "      <th>38</th>\n",
       "      <td>im, pain, ive, doctor, hospital, mental, healt...</td>\n",
       "      <td>-0.14217188954353333</td>\n",
       "    </tr>\n",
       "    <tr>\n",
       "      <th>39</th>\n",
       "      <td>im, life, feel, want, dont, know, like, ive, l...</td>\n",
       "      <td>0.6334216594696045</td>\n",
       "    </tr>\n",
       "  </tbody>\n",
       "</table>\n",
       "</div>"
      ],
      "text/plain": [
       "                                                Topic Suicidality Coefficient\n",
       "0   bike, car, new, road, ride, around, city, bike...     -4.5724358558654785\n",
       "1   url, us, min, survey, person, gt95, study, sho...      -4.415285587310791\n",
       "2   person, big, babes, porn, f, girl, sexy, xpost...      -4.101504325866699\n",
       "3   ’, ”, “, person, ‘, –, gun, 10, top, pistol, r...      -4.050198078155518\n",
       "4   ͡°, ͜ʖ, battery, person, high, screen, vs, low...     -3.8141653537750244\n",
       "5   english, live, webcam, language, sexy, word, g...     -3.1262660026550293\n",
       "6   phone, app, person, use, iphone, mobile, apps,...     -2.8841357231140137\n",
       "7   2, person, x, 2url, editionurl, 3, game, dont,...     -2.4462270736694336\n",
       "8   person, us, state, new, police, states, countr...     -2.4319872856140137\n",
       "9   person, humble, w, bundle, keys, h, mail, 2, o...      -2.386512279510498\n",
       "10  person, persons, vs, amp, 1, character, man, 2...     -2.2894787788391113\n",
       "11  person, music, song, songs, band, sound, guita...     -2.2134947776794434\n",
       "12  person, iv, 5, 0, 4, one, pokemon, 1, 2, lf, t...     -2.1280863285064697\n",
       "13  person, people, god, believe, gay, religious, ...      -2.029388427734375\n",
       "14  person, build, power, video, card, cpu, pc, at...     -1.9144318103790283\n",
       "15  game, play, games, playing, person, team, play...     -1.8500615358352661\n",
       "16  hair, wear, look, color, blue, black, red, sty...     -1.7709540128707886\n",
       "17  eat, weight, food, day, eating, week, fat, im,...     -1.7324720621109009\n",
       "18  post, please, reddit, subreddit, url, person, ...      -1.711248755455017\n",
       "19  person, pokemon, games, set, new, great, box, ...       -1.71116304397583\n",
       "20  money, pay, buy, get, sell, person, price, acc...      -1.699993371963501\n",
       "21  like, back, one, room, around, get, water, rig...      -1.673421859741211\n",
       "22  world, war, person, would, earth, life, us, ma...     -1.5550025701522827\n",
       "23  sex, girl, women, girls, men, female, sexual, ...     -1.4986618757247925\n",
       "24  school, im, job, work, college, year, class, s...      -1.417787790298462\n",
       "25  person, video, show, book, story, watch, ever,...     -1.4049659967422485\n",
       "26  person, gt, ps4, psn, vog, fresh, xb1, hm, inv...     -1.3286679983139038\n",
       "27  would, one, like, think, could, people, time, ...     -1.3065143823623657\n",
       "28  person, new, retail, poker, sold, 2, calls, 30...     -1.2932273149490356\n",
       "29  person, damage, game, level, use, get, team, r...     -1.2830308675765991\n",
       "30  got, time, didnt, back, first, said, last, one...     -1.1424610614776611\n",
       "31  computer, help, anyone, problem, ive, game, tr...     -0.9632527828216553\n",
       "32  love, person, im, looking, na, new, like, woul...     -0.9002686142921448\n",
       "33  1, 2, person, 3, 4, 5, 0, player, 6, x, 10, bo...     -0.8318637013435364\n",
       "34  old, year, family, mom, baby, parents, dog, ho...      -0.778836727142334\n",
       "35  im, would, like, help, ive, know, need, anyone...     -0.5956284999847412\n",
       "36  person, deck, contest, cards, oc, dragon, gift...     -0.5775940418243408\n",
       "37  im, like, dont, know, get, people, really, thi...     -0.3882521092891693\n",
       "38  im, pain, ive, doctor, hospital, mental, healt...    -0.14217188954353333\n",
       "39  im, life, feel, want, dont, know, like, ive, l...      0.6334216594696045"
      ]
     },
     "execution_count": 12,
     "metadata": {},
     "output_type": "execute_result"
    }
   ],
   "source": [
    "slda_coefficients = mdl.get_regression_coef(0)\n",
    "data = []\n",
    "for k in range(mdl.k):\n",
    "    top_words = mdl.get_topic_words(k, top_n=40)\n",
    "    words = [word for (word, float) in top_words]\n",
    "    words = \", \".join(words)\n",
    "    data.append([words, slda_coefficients[k]])\n",
    "    \n",
    "indices = np.array(slda_coefficients).argsort()\n",
    "data = np.array(data)\n",
    "data = data[indices]\n",
    "\n",
    "pd.DataFrame(data, columns=[\"Topic\", \"Suicidality Coefficient\"])"
   ]
  },
  {
   "cell_type": "code",
   "execution_count": 13,
   "metadata": {},
   "outputs": [
    {
     "name": "stdout",
     "output_type": "stream",
     "text": [
      "im, like, dont, know, get, people, really, think, want, something, cant, ive, even, feel, make, going, go, say, one, see, time, good, someone, doesnt, would, right, much, thing, things, person, thats, anything, youre, bad, lot, sure, always, well, way, else\n"
     ]
    }
   ],
   "source": [
    "print(data[37][0])"
   ]
  },
  {
   "cell_type": "code",
   "execution_count": 14,
   "metadata": {},
   "outputs": [
    {
     "name": "stdout",
     "output_type": "stream",
     "text": [
      "im, pain, ive, doctor, hospital, mental, health, days, weeks, feel, take, anxiety, person, also, medication, back, taking, issues, depression, last, disorder, since, appointment, even, help, ago, day, started, drug, bipolar, bad, went, normal, years, symptoms, doctors, meds, medical, blood, week\n"
     ]
    }
   ],
   "source": [
    "print(data[38][0])"
   ]
  },
  {
   "cell_type": "code",
   "execution_count": 15,
   "metadata": {},
   "outputs": [
    {
     "name": "stdout",
     "output_type": "stream",
     "text": [
      "im, life, feel, want, dont, know, like, ive, love, friends, never, things, really, people, even, cant, time, always, years, talk, much, going, relationship, one, friend, someone, get, help, ever, best, would, way, feeling, still, could, need, go, day, everything, family\n"
     ]
    }
   ],
   "source": [
    "print(data[39][0])"
   ]
  },
  {
   "cell_type": "code",
   "execution_count": null,
   "metadata": {},
   "outputs": [],
   "source": []
  }
 ],
 "metadata": {
  "anaconda-cloud": {},
  "kernelspec": {
   "display_name": "CMSC773",
   "language": "python",
   "name": "cmsc773"
  },
  "language_info": {
   "codemirror_mode": {
    "name": "ipython",
    "version": 3
   },
   "file_extension": ".py",
   "mimetype": "text/x-python",
   "name": "python",
   "nbconvert_exporter": "python",
   "pygments_lexer": "ipython3",
   "version": "3.8.1"
  }
 },
 "nbformat": 4,
 "nbformat_minor": 1
}
