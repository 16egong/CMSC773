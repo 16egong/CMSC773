{
 "cells": [
  {
   "cell_type": "code",
   "execution_count": 1,
   "metadata": {},
   "outputs": [],
   "source": [
    "import dataloader\n",
    "import tomotopy as tp\n",
    "from itertools import chain\n",
    "import tqdm\n",
    "import pandas as pd\n",
    "import numpy as np"
   ]
  },
  {
   "cell_type": "markdown",
   "metadata": {},
   "source": [
    "Load new data:"
   ]
  },
  {
   "cell_type": "code",
   "execution_count": null,
   "metadata": {},
   "outputs": [],
   "source": [
    "POSTPATH = './crowd/train/shared_task_posts.csv'\n",
    "LABELPATH = './crowd/train/crowd_train.csv'\n",
    "USERPATH = './crowd/train/task_C_train.posts.csv'\n",
    "\n",
    "users = dataloader.load_user_subset_from_train(USERPATH, subset = 1000)\n",
    "    \n",
    "user_to_post, post_to_words, post_to_metadata = dataloader.load_posts(POSTPATH, user_subset = users)\n",
    "post_to_label = dataloader.load_classification(LABELPATH, user_to_post, post_to_words, post_to_metadata)\n",
    "filtered_data, sw_posts, sw_timestamps = dataloader.filter_posts(post_to_label, post_to_metadata)\n",
    "\n",
    "filtered_data = dataloader.filter_stopwords(filtered_data)\n",
    "sw_posts = dataloader.filter_stopwords(sw_posts)\n",
    "\n",
    "FOLDERPATH = './crowd_processed/'\n",
    "dataloader.save_to_folder(FOLDERPATH, user_to_post, post_to_metadata, filtered_data, sw_posts, sw_timestamps)"
   ]
  },
  {
   "cell_type": "markdown",
   "metadata": {},
   "source": [
    "Load existing Data:"
   ]
  },
  {
   "cell_type": "code",
   "execution_count": 2,
   "metadata": {},
   "outputs": [],
   "source": [
    "FOLDERPATH = './crowd_processed/'\n",
    "user_to_post, post_to_metadata, filtered_data, sw_posts, sw_timestamps = dataloader.load_from_folder(FOLDERPATH)\n",
    "filtered_data = dataloader.filter_stopwords(filtered_data)\n",
    "sw_posts = dataloader.filter_stopwords(sw_posts)"
   ]
  },
  {
   "cell_type": "code",
   "execution_count": 19,
   "metadata": {},
   "outputs": [
    {
     "name": "stderr",
     "output_type": "stream",
     "text": [
      "100%|████████████████████████████████████████████████████████████████████████| 55255/55255 [00:00<00:00, 124781.35it/s]\n"
     ]
    },
    {
     "name": "stdout",
     "output_type": "stream",
     "text": [
      "Iteration: 0\tLog-likelihood: -10.155441293263952\n",
      "Iteration: 100\tLog-likelihood: -9.214060881060316\n",
      "Iteration: 200\tLog-likelihood: -9.114190279724967\n",
      "Iteration: 300\tLog-likelihood: -9.08253916761422\n",
      "Iteration: 400\tLog-likelihood: -9.073029999986009\n",
      "Iteration: 500\tLog-likelihood: -9.066007807153923\n",
      "Iteration: 600\tLog-likelihood: -9.05862781614594\n",
      "Iteration: 700\tLog-likelihood: -9.051351661276335\n",
      "Iteration: 800\tLog-likelihood: -9.046680493046948\n",
      "Iteration: 900\tLog-likelihood: -9.045033356610785\n"
     ]
    }
   ],
   "source": [
    "mdl = tp.SLDAModel(k=30, vars=['b'])\n",
    "for data in tqdm.tqdm(filtered_data.keys()):\n",
    "    mdl.add_doc(chain.from_iterable(filtered_data[data][1]), [1 if filtered_data[data][2] == 'd' else 0])\n",
    "\n",
    "for i in range(0, 1000, 10):\n",
    "    mdl.train(10)\n",
    "    if (i % 100 == 0):\n",
    "        print('Iteration: {}\\tLog-likelihood: {}'.format(i, mdl.ll_per_word))\n",
    "print(\"Training Finished\")"
   ]
  },
  {
   "cell_type": "code",
   "execution_count": 20,
   "metadata": {},
   "outputs": [
    {
     "data": {
      "text/html": [
       "<div>\n",
       "<style scoped>\n",
       "    .dataframe tbody tr th:only-of-type {\n",
       "        vertical-align: middle;\n",
       "    }\n",
       "\n",
       "    .dataframe tbody tr th {\n",
       "        vertical-align: top;\n",
       "    }\n",
       "\n",
       "    .dataframe thead th {\n",
       "        text-align: right;\n",
       "    }\n",
       "</style>\n",
       "<table border=\"1\" class=\"dataframe\">\n",
       "  <thead>\n",
       "    <tr style=\"text-align: right;\">\n",
       "      <th></th>\n",
       "      <th>Topic</th>\n",
       "      <th>Suicidality Coefficient</th>\n",
       "    </tr>\n",
       "  </thead>\n",
       "  <tbody>\n",
       "    <tr>\n",
       "      <th>0</th>\n",
       "      <td>͡°, bike, url, ͜ʖ, person, city, area, ride, r...</td>\n",
       "      <td>-5.436562538146973</td>\n",
       "    </tr>\n",
       "    <tr>\n",
       "      <th>1</th>\n",
       "      <td>buy, price, bike, sell, car, new, money, bough...</td>\n",
       "      <td>-4.356998920440674</td>\n",
       "    </tr>\n",
       "    <tr>\n",
       "      <th>2</th>\n",
       "      <td>person, new, retail, sold, used, 300, pokemon,...</td>\n",
       "      <td>-4.113407135009766</td>\n",
       "    </tr>\n",
       "    <tr>\n",
       "      <th>3</th>\n",
       "      <td>url, person, gun, range, button, model, press,...</td>\n",
       "      <td>-3.3555142879486084</td>\n",
       "    </tr>\n",
       "    <tr>\n",
       "      <th>4</th>\n",
       "      <td>person, iv, weed, smoke, smoking, one, 0, 5, 4...</td>\n",
       "      <td>-2.645719051361084</td>\n",
       "    </tr>\n",
       "    <tr>\n",
       "      <th>5</th>\n",
       "      <td>person, x, 2, humble, 2url, bundle, editionurl...</td>\n",
       "      <td>-2.633164405822754</td>\n",
       "    </tr>\n",
       "    <tr>\n",
       "      <th>6</th>\n",
       "      <td>person, oxycodone, email, mg, cheap, personper...</td>\n",
       "      <td>-2.236701488494873</td>\n",
       "    </tr>\n",
       "    <tr>\n",
       "      <th>7</th>\n",
       "      <td>game, play, games, playing, person, played, te...</td>\n",
       "      <td>-2.147989273071289</td>\n",
       "    </tr>\n",
       "    <tr>\n",
       "      <th>8</th>\n",
       "      <td>music, person, song, english, language, sound,...</td>\n",
       "      <td>-2.1095125675201416</td>\n",
       "    </tr>\n",
       "    <tr>\n",
       "      <th>9</th>\n",
       "      <td>would, one, think, people, way, could, time, m...</td>\n",
       "      <td>-2.036754846572876</td>\n",
       "    </tr>\n",
       "    <tr>\n",
       "      <th>10</th>\n",
       "      <td>url, post, please, people, reddit, see, subred...</td>\n",
       "      <td>-1.7025068998336792</td>\n",
       "    </tr>\n",
       "    <tr>\n",
       "      <th>11</th>\n",
       "      <td>person, power, video, cpu, atx, card, amazon, ...</td>\n",
       "      <td>-1.611222743988037</td>\n",
       "    </tr>\n",
       "    <tr>\n",
       "      <th>12</th>\n",
       "      <td>na, im, love, pm, like, looking, go, gon, wan,...</td>\n",
       "      <td>-1.325274109840393</td>\n",
       "    </tr>\n",
       "    <tr>\n",
       "      <th>13</th>\n",
       "      <td>eat, weight, food, eating, day, fat, diet, cal...</td>\n",
       "      <td>-1.2920608520507812</td>\n",
       "    </tr>\n",
       "    <tr>\n",
       "      <th>14</th>\n",
       "      <td>’, ”, “, person, show, –, sure, one, look, may...</td>\n",
       "      <td>-1.1726709604263306</td>\n",
       "    </tr>\n",
       "    <tr>\n",
       "      <th>15</th>\n",
       "      <td>using, use, computer, person, screen, tried, p...</td>\n",
       "      <td>-1.1396554708480835</td>\n",
       "    </tr>\n",
       "    <tr>\n",
       "      <th>16</th>\n",
       "      <td>person, persons, story, book, one, character, ...</td>\n",
       "      <td>-1.081284523010254</td>\n",
       "    </tr>\n",
       "    <tr>\n",
       "      <th>17</th>\n",
       "      <td>time, im, ive, got, back, first, get, last, on...</td>\n",
       "      <td>-1.044877290725708</td>\n",
       "    </tr>\n",
       "    <tr>\n",
       "      <th>18</th>\n",
       "      <td>hair, look, wear, like, black, color, skin, wa...</td>\n",
       "      <td>-0.8335487246513367</td>\n",
       "    </tr>\n",
       "    <tr>\n",
       "      <th>19</th>\n",
       "      <td>person, gt, 2, 1, players, calls, poker, raise...</td>\n",
       "      <td>-0.7899329662322998</td>\n",
       "    </tr>\n",
       "    <tr>\n",
       "      <th>20</th>\n",
       "      <td>person, damage, team, game, use, get, level, e...</td>\n",
       "      <td>-0.7246997356414795</td>\n",
       "    </tr>\n",
       "    <tr>\n",
       "      <th>21</th>\n",
       "      <td>im, would, like, know, ive, really, anyone, lo...</td>\n",
       "      <td>-0.684136152267456</td>\n",
       "    </tr>\n",
       "    <tr>\n",
       "      <th>22</th>\n",
       "      <td>said, told, back, got, didnt, one, went, house...</td>\n",
       "      <td>-0.6149777770042419</td>\n",
       "    </tr>\n",
       "    <tr>\n",
       "      <th>23</th>\n",
       "      <td>school, work, job, money, year, im, would, pay...</td>\n",
       "      <td>-0.5398547053337097</td>\n",
       "    </tr>\n",
       "    <tr>\n",
       "      <th>24</th>\n",
       "      <td>could, one, life, world, like, remember, dream...</td>\n",
       "      <td>-0.5263839960098267</td>\n",
       "    </tr>\n",
       "    <tr>\n",
       "      <th>25</th>\n",
       "      <td>person, people, god, war, believe, us, religio...</td>\n",
       "      <td>-0.19733977317810059</td>\n",
       "    </tr>\n",
       "    <tr>\n",
       "      <th>26</th>\n",
       "      <td>person, 1, 2, 3, 4, cards, deck, 5, round, 0, ...</td>\n",
       "      <td>0.0502774678170681</td>\n",
       "    </tr>\n",
       "    <tr>\n",
       "      <th>27</th>\n",
       "      <td>im, dont, like, know, get, want, really, feel,...</td>\n",
       "      <td>0.2575133144855499</td>\n",
       "    </tr>\n",
       "    <tr>\n",
       "      <th>28</th>\n",
       "      <td>person, pain, doctor, hospital, mental, health...</td>\n",
       "      <td>0.3495142161846161</td>\n",
       "    </tr>\n",
       "    <tr>\n",
       "      <th>29</th>\n",
       "      <td>friends, like, feel, life, never, love, want, ...</td>\n",
       "      <td>0.7642622590065002</td>\n",
       "    </tr>\n",
       "  </tbody>\n",
       "</table>\n",
       "</div>"
      ],
      "text/plain": [
       "                                                Topic Suicidality Coefficient\n",
       "0   ͡°, bike, url, ͜ʖ, person, city, area, ride, r...      -5.436562538146973\n",
       "1   buy, price, bike, sell, car, new, money, bough...      -4.356998920440674\n",
       "2   person, new, retail, sold, used, 300, pokemon,...      -4.113407135009766\n",
       "3   url, person, gun, range, button, model, press,...     -3.3555142879486084\n",
       "4   person, iv, weed, smoke, smoking, one, 0, 5, 4...      -2.645719051361084\n",
       "5   person, x, 2, humble, 2url, bundle, editionurl...      -2.633164405822754\n",
       "6   person, oxycodone, email, mg, cheap, personper...      -2.236701488494873\n",
       "7   game, play, games, playing, person, played, te...      -2.147989273071289\n",
       "8   music, person, song, english, language, sound,...     -2.1095125675201416\n",
       "9   would, one, think, people, way, could, time, m...      -2.036754846572876\n",
       "10  url, post, please, people, reddit, see, subred...     -1.7025068998336792\n",
       "11  person, power, video, cpu, atx, card, amazon, ...      -1.611222743988037\n",
       "12  na, im, love, pm, like, looking, go, gon, wan,...      -1.325274109840393\n",
       "13  eat, weight, food, eating, day, fat, diet, cal...     -1.2920608520507812\n",
       "14  ’, ”, “, person, show, –, sure, one, look, may...     -1.1726709604263306\n",
       "15  using, use, computer, person, screen, tried, p...     -1.1396554708480835\n",
       "16  person, persons, story, book, one, character, ...      -1.081284523010254\n",
       "17  time, im, ive, got, back, first, get, last, on...      -1.044877290725708\n",
       "18  hair, look, wear, like, black, color, skin, wa...     -0.8335487246513367\n",
       "19  person, gt, 2, 1, players, calls, poker, raise...     -0.7899329662322998\n",
       "20  person, damage, team, game, use, get, level, e...     -0.7246997356414795\n",
       "21  im, would, like, know, ive, really, anyone, lo...      -0.684136152267456\n",
       "22  said, told, back, got, didnt, one, went, house...     -0.6149777770042419\n",
       "23  school, work, job, money, year, im, would, pay...     -0.5398547053337097\n",
       "24  could, one, life, world, like, remember, dream...     -0.5263839960098267\n",
       "25  person, people, god, war, believe, us, religio...    -0.19733977317810059\n",
       "26  person, 1, 2, 3, 4, cards, deck, 5, round, 0, ...      0.0502774678170681\n",
       "27  im, dont, like, know, get, want, really, feel,...      0.2575133144855499\n",
       "28  person, pain, doctor, hospital, mental, health...      0.3495142161846161\n",
       "29  friends, like, feel, life, never, love, want, ...      0.7642622590065002"
      ]
     },
     "execution_count": 20,
     "metadata": {},
     "output_type": "execute_result"
    }
   ],
   "source": [
    "slda_coefficients = mdl.get_regression_coef(0)\n",
    "data = []\n",
    "for k in range(mdl.k):\n",
    "    top_words = mdl.get_topic_words(k, top_n=40)\n",
    "    words = [word for (word, float) in top_words]\n",
    "    words = \", \".join(words)\n",
    "    data.append([words, slda_coefficients[k]])\n",
    "    \n",
    "indices = np.array(slda_coefficients).argsort()\n",
    "data = np.array(data)\n",
    "data = data[indices]\n",
    "\n",
    "pd.DataFrame(data, columns=[\"Topic\", \"Suicidality Coefficient\"])"
   ]
  },
  {
   "cell_type": "code",
   "execution_count": 25,
   "metadata": {},
   "outputs": [
    {
     "name": "stdout",
     "output_type": "stream",
     "text": [
      "im, dont, like, know, get, want, really, feel, cant, people, even, think, time, make, going, go, ive, something, right, one, much, need, say, anything, way, someone, things, thats, life, see, always, youre, doesnt, good, thing, person, still, every, tell, help\n"
     ]
    }
   ],
   "source": [
    "print(data[27][0])"
   ]
  },
  {
   "cell_type": "code",
   "execution_count": 26,
   "metadata": {},
   "outputs": [
    {
     "name": "stdout",
     "output_type": "stream",
     "text": [
      "person, pain, doctor, hospital, mental, health, medication, anxiety, appointment, depression, symptoms, disorder, take, blood, meds, went, issues, bipolar, medical, also, ich, birth, doctors, im, treatment, pills, help, taking, normal, drug, und, er, drugs, severe, suicide, die, due, surgery, illness, patients\n"
     ]
    }
   ],
   "source": [
    "print(data[28][0])"
   ]
  },
  {
   "cell_type": "code",
   "execution_count": 27,
   "metadata": {},
   "outputs": [
    {
     "name": "stdout",
     "output_type": "stream",
     "text": [
      "friends, like, feel, life, never, love, want, relationship, talk, girl, people, friend, years, really, things, sex, im, would, know, always, school, dont, ive, year, women, ever, felt, much, time, told, shes, think, someone, wanted, social, together, parents, girlfriend, depression, boyfriend\n"
     ]
    }
   ],
   "source": [
    "print(data[29][0])"
   ]
  },
  {
   "cell_type": "code",
   "execution_count": null,
   "metadata": {},
   "outputs": [],
   "source": []
  }
 ],
 "metadata": {
  "anaconda-cloud": {},
  "kernelspec": {
   "display_name": "Python 3",
   "language": "python",
   "name": "python3"
  },
  "language_info": {
   "codemirror_mode": {
    "name": "ipython",
    "version": 3
   },
   "file_extension": ".py",
   "mimetype": "text/x-python",
   "name": "python",
   "nbconvert_exporter": "python",
   "pygments_lexer": "ipython3",
   "version": "3.7.3"
  }
 },
 "nbformat": 4,
 "nbformat_minor": 1
}
