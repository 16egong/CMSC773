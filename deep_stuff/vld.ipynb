{
 "cells": [
  {
   "cell_type": "code",
   "execution_count": 1,
   "metadata": {},
   "outputs": [],
   "source": [
    "# %load_ext autoreload\n",
    "# %autoreload 2\n",
    "\n",
    "import os, sys\n",
    "# os.environ[\"CUDA_VISIBLE_DEVICES\"]=\"1\"\n",
    "\n",
    "home_dir = os.environ['HOME']\n",
    "sys.path.insert(0, os.path.join(home_dir, 'Dropbox/git/CMSC773'))\n",
    "sys.path.insert(0, os.path.join(home_dir, 'Dropbox/git/bertviz'))\n",
    "from bertviz import head_view\n",
    "\n",
    "import dataloader\n",
    "import tomotopy as tp\n",
    "from itertools import chain\n",
    "import tqdm\n",
    "import pandas as pd\n",
    "import numpy as np\n",
    "import slda\n",
    "import post_classifier\n",
    "import bow\n",
    "\n",
    "from matplotlib import pyplot as plt\n",
    "import seaborn as sns\n",
    "sns.set_style('dark')"
   ]
  },
  {
   "cell_type": "markdown",
   "metadata": {},
   "source": [
    "### Load Model"
   ]
  },
  {
   "cell_type": "code",
   "execution_count": 2,
   "metadata": {},
   "outputs": [],
   "source": [
    "import torch\n",
    "from transformers import BertForSequenceClassification, BertTokenizer"
   ]
  },
  {
   "cell_type": "code",
   "execution_count": 3,
   "metadata": {},
   "outputs": [
    {
     "data": {
      "text/plain": [
       "device(type='cuda')"
      ]
     },
     "execution_count": 3,
     "metadata": {},
     "output_type": "execute_result"
    }
   ],
   "source": [
    "device = torch.device('cuda' if torch.cuda.is_available() else 'cpu')\n",
    "device"
   ]
  },
  {
   "cell_type": "code",
   "execution_count": 4,
   "metadata": {},
   "outputs": [],
   "source": [
    "base_save_dir = '/home/hadi/Documents/CL2/deep_stuff/saved_models'\n",
    "mdoel_save_dir = os.path.join(base_save_dir, 'model')\n",
    "tokenizer_save_dir = os.path.join(base_save_dir, 'tokenizer')\n",
    "\n",
    "model_load_dir = os.path.join(mdoel_save_dir, os.listdir(mdoel_save_dir)[0])\n",
    "tokenizer_load_dir = os.path.join(tokenizer_save_dir, os.listdir(tokenizer_save_dir)[0])"
   ]
  },
  {
   "cell_type": "code",
   "execution_count": 5,
   "metadata": {},
   "outputs": [],
   "source": [
    "model = BertForSequenceClassification.from_pretrained(model_load_dir).to(device)\n",
    "tokenizer = BertTokenizer.from_pretrained(tokenizer_load_dir)"
   ]
  },
  {
   "cell_type": "markdown",
   "metadata": {},
   "source": [
    "### Load Data"
   ]
  },
  {
   "cell_type": "code",
   "execution_count": 6,
   "metadata": {},
   "outputs": [],
   "source": [
    "base_dir = 'Documents/CL2/umd_reddit_suicidewatch_dataset_v2/processed_data'\n",
    "load_dir = os.path.join(home_dir, base_dir)\n",
    "\n",
    "x_np, y_np = np.load(os.path.join(load_dir, 'test_data.npy'), allow_pickle=True)"
   ]
  },
  {
   "cell_type": "code",
   "execution_count": 7,
   "metadata": {},
   "outputs": [],
   "source": [
    "x_test = list(map(lambda z: torch.tensor(z, dtype=torch.long, device=device), x_np))\n",
    "y_test = torch.tensor(y_np, dtype=torch.long, device=device)"
   ]
  },
  {
   "cell_type": "code",
   "execution_count": null,
   "metadata": {},
   "outputs": [],
   "source": []
  },
  {
   "cell_type": "code",
   "execution_count": null,
   "metadata": {},
   "outputs": [],
   "source": []
  },
  {
   "cell_type": "code",
   "execution_count": 8,
   "metadata": {},
   "outputs": [],
   "source": [
    "def valid(model, x, y, batch_size=8):\n",
    "    num_incorrect = 0\n",
    "    y_pred_all = []\n",
    "    \n",
    "    model.eval()\n",
    "    \n",
    "    num_samples = len(y)\n",
    "    for i in tqdm.tqdm(range(int(np.ceil(num_samples / batch_size)))):\n",
    "        indices = slice(i*batch_size, (i+1)*batch_size)\n",
    "\n",
    "        batch_inputs = list(map(lambda z: z[indices], x))\n",
    "        batch_labels = y[indices]\n",
    "\n",
    "        with torch.no_grad():\n",
    "            logits = model(*batch_inputs)[0]        \n",
    "\n",
    "        y_pred = torch.argmax(torch.softmax(logits, dim=1), dim=1).tolist()\n",
    "\n",
    "        num_incorrect += sum([abs(tup[0] - tup[1]) for tup in zip(batch_labels.view(-1).tolist(), y_pred)])\n",
    "        y_pred_all.extend(y_pred)\n",
    "        \n",
    "    print(num_incorrect / num_samples)\n",
    "\n",
    "    return(y_pred_all)"
   ]
  },
  {
   "cell_type": "code",
   "execution_count": null,
   "metadata": {},
   "outputs": [],
   "source": []
  },
  {
   "cell_type": "code",
   "execution_count": 9,
   "metadata": {},
   "outputs": [
    {
     "name": "stderr",
     "output_type": "stream",
     "text": [
      "100%|██████████| 57/57 [06:35<00:00,  6.94s/it]"
     ]
    },
    {
     "name": "stdout",
     "output_type": "stream",
     "text": [
      "0.3372826162267027\n"
     ]
    },
    {
     "name": "stderr",
     "output_type": "stream",
     "text": [
      "\n"
     ]
    }
   ],
   "source": [
    "y_pred_all = valid(model, x_test, y_test, batch_size=256)"
   ]
  },
  {
   "cell_type": "code",
   "execution_count": null,
   "metadata": {},
   "outputs": [],
   "source": []
  },
  {
   "cell_type": "code",
   "execution_count": null,
   "metadata": {},
   "outputs": [],
   "source": []
  },
  {
   "cell_type": "code",
   "execution_count": 18,
   "metadata": {},
   "outputs": [
    {
     "data": {
      "text/plain": [
       "0.6627173837732973"
      ]
     },
     "execution_count": 18,
     "metadata": {},
     "output_type": "execute_result"
    }
   ],
   "source": [
    "num_correct = 0\n",
    "\n",
    "for true, pred in zip(y_test.view(-1).tolist(), y_pred_all):\n",
    "    if true == pred:\n",
    "        num_correct += 1\n",
    "        \n",
    "accuracy = num_correct / len(y_pred_all)\n",
    "accuracy"
   ]
  },
  {
   "cell_type": "code",
   "execution_count": null,
   "metadata": {},
   "outputs": [],
   "source": []
  },
  {
   "cell_type": "code",
   "execution_count": 10,
   "metadata": {},
   "outputs": [],
   "source": [
    "from sklearn.metrics import precision_recall_fscore_support"
   ]
  },
  {
   "cell_type": "code",
   "execution_count": 11,
   "metadata": {},
   "outputs": [
    {
     "data": {
      "text/plain": [
       "(array([0.72737251, 0.36693704]),\n",
       " array([0.84015994, 0.22732711]),\n",
       " array([0.77970857, 0.28073286]),\n",
       " array([10254,  4179]))"
      ]
     },
     "execution_count": 11,
     "metadata": {},
     "output_type": "execute_result"
    }
   ],
   "source": [
    "precision_recall_fscore_support(y_test.view(-1).tolist(), y_pred_all)"
   ]
  },
  {
   "cell_type": "code",
   "execution_count": null,
   "metadata": {},
   "outputs": [],
   "source": []
  },
  {
   "cell_type": "code",
   "execution_count": 12,
   "metadata": {},
   "outputs": [
    {
     "data": {
      "text/plain": [
       "(0.6230102962617377, 0.6627173837732973, 0.6352327520431591, None)"
      ]
     },
     "execution_count": 12,
     "metadata": {},
     "output_type": "execute_result"
    }
   ],
   "source": [
    "precision_recall_fscore_support(y_test.view(-1).tolist(), y_pred_all, average='weighted')"
   ]
  },
  {
   "cell_type": "code",
   "execution_count": 18,
   "metadata": {},
   "outputs": [
    {
     "data": {
      "text/plain": [
       "(0.6234324118339916, 0.6234324118339916, 0.6234324118339916, None)"
      ]
     },
     "execution_count": 18,
     "metadata": {},
     "output_type": "execute_result"
    }
   ],
   "source": [
    "precision_recall_fscore_support(y_test.view(-1).tolist(), y_pred_all, average='micro')"
   ]
  },
  {
   "cell_type": "code",
   "execution_count": 19,
   "metadata": {},
   "outputs": [
    {
     "data": {
      "text/plain": [
       "(0.5305416665469647, 0.5287787820374686, 0.5291677101732248, None)"
      ]
     },
     "execution_count": 19,
     "metadata": {},
     "output_type": "execute_result"
    }
   ],
   "source": [
    "precision_recall_fscore_support(y_test.view(-1).tolist(), y_pred_all, average='macro')"
   ]
  },
  {
   "cell_type": "code",
   "execution_count": null,
   "metadata": {},
   "outputs": [],
   "source": []
  },
  {
   "cell_type": "code",
   "execution_count": null,
   "metadata": {},
   "outputs": [],
   "source": []
  },
  {
   "cell_type": "code",
   "execution_count": null,
   "metadata": {},
   "outputs": [],
   "source": []
  }
 ],
 "metadata": {
  "kernelspec": {
   "display_name": "Python 3",
   "language": "python",
   "name": "python3"
  },
  "language_info": {
   "codemirror_mode": {
    "name": "ipython",
    "version": 3
   },
   "file_extension": ".py",
   "mimetype": "text/x-python",
   "name": "python",
   "nbconvert_exporter": "python",
   "pygments_lexer": "ipython3",
   "version": "3.8.2"
  }
 },
 "nbformat": 4,
 "nbformat_minor": 2
}
