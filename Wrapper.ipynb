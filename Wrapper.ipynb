{
 "cells": [
  {
   "cell_type": "markdown",
   "metadata": {},
   "source": [
    "# Install"
   ]
  },
  {
   "cell_type": "code",
   "execution_count": 1,
   "metadata": {},
   "outputs": [],
   "source": [
    "# Libraries you might not have\n",
    "# !python3 -m pip install --upgrade nbconvert \n",
    "# !python3 -m pip install --upgrade nbstripout \n",
    "# !python3 -m pip install tomotopy\n",
    "# !python3 -m pip install sklearn"
   ]
  },
  {
   "cell_type": "markdown",
   "metadata": {},
   "source": [
    "# Imports"
   ]
  },
  {
   "cell_type": "code",
   "execution_count": 2,
   "metadata": {},
   "outputs": [
    {
     "name": "stderr",
     "output_type": "stream",
     "text": [
      "[nltk_data] Downloading package punkt to /home/dylfox21/nltk_data...\n",
      "[nltk_data]   Package punkt is already up-to-date!\n",
      "[nltk_data] Downloading package stopwords to\n",
      "[nltk_data]     /home/dylfox21/nltk_data...\n",
      "[nltk_data]   Package stopwords is already up-to-date!\n"
     ]
    },
    {
     "data": {
      "text/plain": [
       "True"
      ]
     },
     "execution_count": 2,
     "metadata": {},
     "output_type": "execute_result"
    }
   ],
   "source": [
    "import nltk\n",
    "# Things to install from nltk\n",
    "nltk.download('punkt')\n",
    "nltk.download('stopwords')"
   ]
  },
  {
   "cell_type": "code",
   "execution_count": 316,
   "metadata": {},
   "outputs": [
    {
     "name": "stdout",
     "output_type": "stream",
     "text": [
      "The autoreload extension is already loaded. To reload it, use:\n",
      "  %reload_ext autoreload\n"
     ]
    }
   ],
   "source": [
    "%load_ext autoreload\n",
    "%autoreload 2\n",
    "\n",
    "import tomotopy as tp\n",
    "from itertools import chain\n",
    "import tqdm\n",
    "import pandas as pd\n",
    "import numpy as np\n",
    "from collections import defaultdict\n",
    "import sklearn.preprocessing\n",
    "\n",
    "import dataloader\n",
    "import bow\n",
    "import slda\n",
    "import post_classifier\n",
    "import aggregate\n",
    "import user_classifier"
   ]
  },
  {
   "cell_type": "markdown",
   "metadata": {},
   "source": [
    "# Process Train Data"
   ]
  },
  {
   "cell_type": "code",
   "execution_count": 5,
   "metadata": {},
   "outputs": [
    {
     "name": "stderr",
     "output_type": "stream",
     "text": [
      " 24%|██▍       | 498148/2038753 [00:00<00:00, 2486239.66it/s]"
     ]
    },
    {
     "name": "stdout",
     "output_type": "stream",
     "text": [
      "Flagging empty posts\n"
     ]
    },
    {
     "name": "stderr",
     "output_type": "stream",
     "text": [
      "100%|██████████| 2038753/2038753 [00:00<00:00, 2816664.06it/s]\n",
      "  0%|          | 4330/2038753 [00:00<00:46, 43290.44it/s]"
     ]
    },
    {
     "name": "stdout",
     "output_type": "stream",
     "text": [
      "Appending Titles\n"
     ]
    },
    {
     "name": "stderr",
     "output_type": "stream",
     "text": [
      "100%|██████████| 2038753/2038753 [00:43<00:00, 46792.49it/s]\n",
      "  0%|          | 6908/2038753 [00:00<00:29, 69077.43it/s]"
     ]
    },
    {
     "name": "stdout",
     "output_type": "stream",
     "text": [
      "Filtering subset...\n"
     ]
    },
    {
     "name": "stderr",
     "output_type": "stream",
     "text": [
      "100%|██████████| 2038753/2038753 [00:32<00:00, 62944.24it/s]\n",
      "  0%|          | 1/57015 [00:00<1:44:54,  9.06it/s]"
     ]
    },
    {
     "name": "stdout",
     "output_type": "stream",
     "text": [
      "Tokenizing sentences...\n"
     ]
    },
    {
     "name": "stderr",
     "output_type": "stream",
     "text": [
      "100%|██████████| 57015/57015 [00:09<00:00, 5973.62it/s] \n",
      " 11%|█         | 6206/57015 [00:00<00:00, 62030.78it/s]"
     ]
    },
    {
     "name": "stdout",
     "output_type": "stream",
     "text": [
      "Normalizing...\n"
     ]
    },
    {
     "name": "stderr",
     "output_type": "stream",
     "text": [
      "100%|██████████| 57015/57015 [00:00<00:00, 90765.61it/s]\n",
      "  1%|          | 547/57015 [00:00<00:20, 2766.20it/s]"
     ]
    },
    {
     "name": "stdout",
     "output_type": "stream",
     "text": [
      "Tokenizing sentences into words...\n"
     ]
    },
    {
     "name": "stderr",
     "output_type": "stream",
     "text": [
      "100%|██████████| 57015/57015 [00:21<00:00, 2646.33it/s]\n"
     ]
    },
    {
     "name": "stdout",
     "output_type": "stream",
     "text": [
      "993\n"
     ]
    },
    {
     "name": "stderr",
     "output_type": "stream",
     "text": [
      "100%|██████████| 22454/22454 [00:00<00:00, 525974.57it/s]"
     ]
    },
    {
     "name": "stdout",
     "output_type": "stream",
     "text": [
      "22454\n",
      "Filtering posts far away from SW posts...\n",
      "9326\n"
     ]
    },
    {
     "name": "stderr",
     "output_type": "stream",
     "text": [
      "\n"
     ]
    }
   ],
   "source": [
    "# Uncomment below to process data if you have not already\n",
    "\n",
    "POSTPATH = './Data/crowd/train/shared_task_posts.csv'\n",
    "LABELPATH = './Data/crowd/train/crowd_train.csv'\n",
    "USERPATH = './Data/crowd/train/task_C_train.posts.csv'\n",
    "\n",
    "users = dataloader.load_user_subset_from_train(USERPATH, subset = 1000)\n",
    "    \n",
    "user_to_post, post_to_words, post_to_metadata = dataloader.load_posts(POSTPATH, user_subset = users, append_title = True)\n",
    "post_to_label = dataloader.load_classification(LABELPATH, user_to_post, post_to_words, post_to_metadata, user_subset = users)\n",
    "filtered_data, sw_posts, sw_timestamps = dataloader.filter_posts(post_to_label, post_to_metadata, filter_images=True)\n",
    "print(len(filtered_data))\n",
    "filtered_data = dataloader.filter_near_SW(filtered_data,post_to_metadata, sw_timestamps)\n",
    "print(len(filtered_data))\n",
    "\n",
    "filtered_data = dataloader.filter_stopwords(filtered_data)\n",
    "sw_posts = dataloader.filter_stopwords(sw_posts)"
   ]
  },
  {
   "cell_type": "code",
   "execution_count": 6,
   "metadata": {},
   "outputs": [],
   "source": [
    "FOLDERPATH = './Processing/crowd_processed/'\n",
    "dataloader.save_to_folder(FOLDERPATH, user_to_post, post_to_metadata, filtered_data, sw_posts, sw_timestamps)"
   ]
  },
  {
   "cell_type": "markdown",
   "metadata": {},
   "source": [
    "# Load Process Train Data"
   ]
  },
  {
   "cell_type": "code",
   "execution_count": 7,
   "metadata": {},
   "outputs": [],
   "source": [
    "FOLDERPATH = './Processing/crowd_processed/'\n",
    "user_to_post, post_to_metadata, filtered_data, sw_posts, sw_timestamps = dataloader.load_from_folder(FOLDERPATH)"
   ]
  },
  {
   "cell_type": "code",
   "execution_count": 8,
   "metadata": {},
   "outputs": [
    {
     "name": "stdout",
     "output_type": "stream",
     "text": [
      "258\n",
      "138\n",
      "342\n",
      "1126\n",
      "9326\n"
     ]
    }
   ],
   "source": [
    "print(len([filtered_data[key] for key in filtered_data.keys() if filtered_data[key][2] == 'a']))\n",
    "print(len([filtered_data[key] for key in filtered_data.keys() if filtered_data[key][2] == 'b']))\n",
    "print(len([filtered_data[key] for key in filtered_data.keys() if filtered_data[key][2] == 'c']))\n",
    "print(len([filtered_data[key] for key in filtered_data.keys() if filtered_data[key][2] == 'd']))\n",
    "print(len(filtered_data))"
   ]
  },
  {
   "cell_type": "markdown",
   "metadata": {},
   "source": [
    "# SLDA Model: Train"
   ]
  },
  {
   "cell_type": "markdown",
   "metadata": {},
   "source": [
    "## Train Topic Model"
   ]
  },
  {
   "cell_type": "code",
   "execution_count": 9,
   "metadata": {},
   "outputs": [
    {
     "name": "stderr",
     "output_type": "stream",
     "text": [
      "100%|██████████| 9326/9326 [00:00<00:00, 50429.22it/s]\n"
     ]
    },
    {
     "name": "stdout",
     "output_type": "stream",
     "text": [
      "Beginning sLDA training...\n",
      "Iteration: 0\tLog-likelihood: -9.89359790412948\n",
      "Iteration: 100\tLog-likelihood: -9.007042553956603\n",
      "Iteration: 200\tLog-likelihood: -8.884777234083176\n",
      "Iteration: 300\tLog-likelihood: -8.829163488479255\n",
      "Iteration: 400\tLog-likelihood: -8.801821420841804\n",
      "Iteration: 500\tLog-likelihood: -8.777414636170192\n",
      "Iteration: 600\tLog-likelihood: -8.76721096351745\n",
      "Iteration: 700\tLog-likelihood: -8.760612140958017\n",
      "Iteration: 800\tLog-likelihood: -8.760580244242764\n",
      "Iteration: 900\tLog-likelihood: -8.75709510482071\n",
      "Finished Training\n"
     ]
    }
   ],
   "source": [
    "model = slda.train_slda_model_from_data(filtered_data, topics=40)"
   ]
  },
  {
   "cell_type": "markdown",
   "metadata": {},
   "source": [
    "## Topic Model Outputs"
   ]
  },
  {
   "cell_type": "code",
   "execution_count": 10,
   "metadata": {},
   "outputs": [
    {
     "data": {
      "text/html": [
       "<div>\n",
       "<style scoped>\n",
       "    .dataframe tbody tr th:only-of-type {\n",
       "        vertical-align: middle;\n",
       "    }\n",
       "\n",
       "    .dataframe tbody tr th {\n",
       "        vertical-align: top;\n",
       "    }\n",
       "\n",
       "    .dataframe thead th {\n",
       "        text-align: right;\n",
       "    }\n",
       "</style>\n",
       "<table border=\"1\" class=\"dataframe\">\n",
       "  <thead>\n",
       "    <tr style=\"text-align: right;\">\n",
       "      <th></th>\n",
       "      <th>Topic</th>\n",
       "      <th>Suicidality Coefficient</th>\n",
       "    </tr>\n",
       "  </thead>\n",
       "  <tbody>\n",
       "    <tr>\n",
       "      <th>0</th>\n",
       "      <td>url, us, min, survey, gt95, person, short, stu...</td>\n",
       "      <td>-4.768319129943848</td>\n",
       "    </tr>\n",
       "    <tr>\n",
       "      <th>1</th>\n",
       "      <td>phone, screen, anyone, using, app, tried, prob...</td>\n",
       "      <td>-3.966301441192627</td>\n",
       "    </tr>\n",
       "    <tr>\n",
       "      <th>2</th>\n",
       "      <td>im, get, going, looking, area, night, go, live...</td>\n",
       "      <td>-3.879598379135132</td>\n",
       "    </tr>\n",
       "    <tr>\n",
       "      <th>3</th>\n",
       "      <td>english, language, german, word, swedish, nati...</td>\n",
       "      <td>-3.8670272827148438</td>\n",
       "    </tr>\n",
       "    <tr>\n",
       "      <th>4</th>\n",
       "      <td>would, person, one, time, think, like, could, ...</td>\n",
       "      <td>-3.819622039794922</td>\n",
       "    </tr>\n",
       "    <tr>\n",
       "      <th>5</th>\n",
       "      <td>person, im, u, gay, writing, known, tell, ship...</td>\n",
       "      <td>-3.759852170944214</td>\n",
       "    </tr>\n",
       "    <tr>\n",
       "      <th>6</th>\n",
       "      <td>person, keys, w, h, url, price, ft, bo, blue, ...</td>\n",
       "      <td>-3.5882997512817383</td>\n",
       "    </tr>\n",
       "    <tr>\n",
       "      <th>7</th>\n",
       "      <td>person, vs, team, persons, 2, round, 1, 3, sea...</td>\n",
       "      <td>-3.5339274406433105</td>\n",
       "    </tr>\n",
       "    <tr>\n",
       "      <th>8</th>\n",
       "      <td>person, ps4, psn, gt, add, lvl, vog, looking, ...</td>\n",
       "      <td>-3.377411365509033</td>\n",
       "    </tr>\n",
       "    <tr>\n",
       "      <th>9</th>\n",
       "      <td>person, music, song, video, show, play, watch,...</td>\n",
       "      <td>-3.343665838241577</td>\n",
       "    </tr>\n",
       "    <tr>\n",
       "      <th>10</th>\n",
       "      <td>sex, guys, girls, women, rough, blood, experie...</td>\n",
       "      <td>-3.329737424850464</td>\n",
       "    </tr>\n",
       "    <tr>\n",
       "      <th>11</th>\n",
       "      <td>person, damage, 1, dragon, game, 2, 3, range, ...</td>\n",
       "      <td>-3.148256540298462</td>\n",
       "    </tr>\n",
       "    <tr>\n",
       "      <th>12</th>\n",
       "      <td>person, amazon, atx, video, build, power, tota...</td>\n",
       "      <td>-3.0462512969970703</td>\n",
       "    </tr>\n",
       "    <tr>\n",
       "      <th>13</th>\n",
       "      <td>person, poker, players, player, 2, hands, plo,...</td>\n",
       "      <td>-2.976595878601074</td>\n",
       "    </tr>\n",
       "    <tr>\n",
       "      <th>14</th>\n",
       "      <td>money, buy, pay, price, sell, stock, options, ...</td>\n",
       "      <td>-2.9667673110961914</td>\n",
       "    </tr>\n",
       "    <tr>\n",
       "      <th>15</th>\n",
       "      <td>got, room, person, back, water, night, right, ...</td>\n",
       "      <td>-2.937229871749878</td>\n",
       "    </tr>\n",
       "    <tr>\n",
       "      <th>16</th>\n",
       "      <td>hair, car, bike, black, person, wear, little, ...</td>\n",
       "      <td>-2.8722970485687256</td>\n",
       "    </tr>\n",
       "    <tr>\n",
       "      <th>17</th>\n",
       "      <td>im, would, like, looking, help, ive, anyone, k...</td>\n",
       "      <td>-2.703728675842285</td>\n",
       "    </tr>\n",
       "    <tr>\n",
       "      <th>18</th>\n",
       "      <td>post, please, reddit, url, subreddit, people, ...</td>\n",
       "      <td>-2.6132123470306396</td>\n",
       "    </tr>\n",
       "    <tr>\n",
       "      <th>19</th>\n",
       "      <td>person, complete, get, auto, ii, grand, empire...</td>\n",
       "      <td>-2.611264705657959</td>\n",
       "    </tr>\n",
       "    <tr>\n",
       "      <th>20</th>\n",
       "      <td>site, account, want, us, key, trade, trust, na...</td>\n",
       "      <td>-2.5016751289367676</td>\n",
       "    </tr>\n",
       "    <tr>\n",
       "      <th>21</th>\n",
       "      <td>2, x, person, editionurl, 2url, 3, game, dont,...</td>\n",
       "      <td>-2.299501419067383</td>\n",
       "    </tr>\n",
       "    <tr>\n",
       "      <th>22</th>\n",
       "      <td>person, pokemon, set, great, box, condition, o...</td>\n",
       "      <td>-2.176974296569824</td>\n",
       "    </tr>\n",
       "    <tr>\n",
       "      <th>23</th>\n",
       "      <td>humble, person, bundle, 2, weekly, x, android,...</td>\n",
       "      <td>-2.162597179412842</td>\n",
       "    </tr>\n",
       "    <tr>\n",
       "      <th>24</th>\n",
       "      <td>people, person, god, us, believe, world, state...</td>\n",
       "      <td>-2.0698201656341553</td>\n",
       "    </tr>\n",
       "    <tr>\n",
       "      <th>25</th>\n",
       "      <td>show, person, thread, tour, goodies, post, off...</td>\n",
       "      <td>-2.058495044708252</td>\n",
       "    </tr>\n",
       "    <tr>\n",
       "      <th>26</th>\n",
       "      <td>person, iv, 0, one, 5, pokemon, egg, hidden, 4...</td>\n",
       "      <td>-1.9786261320114136</td>\n",
       "    </tr>\n",
       "    <tr>\n",
       "      <th>27</th>\n",
       "      <td>person, oxycodone, email, cheap, mg, us, table...</td>\n",
       "      <td>-1.9506051540374756</td>\n",
       "    </tr>\n",
       "    <tr>\n",
       "      <th>28</th>\n",
       "      <td>person, retail, new, sold, 300, 200, 400, used...</td>\n",
       "      <td>-1.8185778856277466</td>\n",
       "    </tr>\n",
       "    <tr>\n",
       "      <th>29</th>\n",
       "      <td>drive, build, person, pc, windows, computer, l...</td>\n",
       "      <td>-1.8034415245056152</td>\n",
       "    </tr>\n",
       "    <tr>\n",
       "      <th>30</th>\n",
       "      <td>person, deck, cards, ich, 1x, decks, card, mar...</td>\n",
       "      <td>-1.731981635093689</td>\n",
       "    </tr>\n",
       "    <tr>\n",
       "      <th>31</th>\n",
       "      <td>day, ive, weight, eat, im, days, eating, food,...</td>\n",
       "      <td>-1.5889886617660522</td>\n",
       "    </tr>\n",
       "    <tr>\n",
       "      <th>32</th>\n",
       "      <td>got, didnt, said, told, girl, went, back, firs...</td>\n",
       "      <td>-1.4661839008331299</td>\n",
       "    </tr>\n",
       "    <tr>\n",
       "      <th>33</th>\n",
       "      <td>game, play, games, playing, players, team, get...</td>\n",
       "      <td>-1.0948692560195923</td>\n",
       "    </tr>\n",
       "    <tr>\n",
       "      <th>34</th>\n",
       "      <td>person, light, mass, army, travel, armor, forc...</td>\n",
       "      <td>-0.9365605711936951</td>\n",
       "    </tr>\n",
       "    <tr>\n",
       "      <th>35</th>\n",
       "      <td>read, like, book, reading, see, writing, books...</td>\n",
       "      <td>-0.7167130708694458</td>\n",
       "    </tr>\n",
       "    <tr>\n",
       "      <th>36</th>\n",
       "      <td>’, ”, “, mom, family, little, dog, two, man, f...</td>\n",
       "      <td>-0.5871524214744568</td>\n",
       "    </tr>\n",
       "    <tr>\n",
       "      <th>37</th>\n",
       "      <td>person, earplugs, using, text, code, need, use...</td>\n",
       "      <td>-0.21624934673309326</td>\n",
       "    </tr>\n",
       "    <tr>\n",
       "      <th>38</th>\n",
       "      <td>im, year, job, work, school, years, college, w...</td>\n",
       "      <td>-0.05084387585520744</td>\n",
       "    </tr>\n",
       "    <tr>\n",
       "      <th>39</th>\n",
       "      <td>im, dont, like, know, get, want, really, feel,...</td>\n",
       "      <td>1.07992684841156</td>\n",
       "    </tr>\n",
       "  </tbody>\n",
       "</table>\n",
       "</div>"
      ],
      "text/plain": [
       "                                                Topic Suicidality Coefficient\n",
       "0   url, us, min, survey, gt95, person, short, stu...      -4.768319129943848\n",
       "1   phone, screen, anyone, using, app, tried, prob...      -3.966301441192627\n",
       "2   im, get, going, looking, area, night, go, live...      -3.879598379135132\n",
       "3   english, language, german, word, swedish, nati...     -3.8670272827148438\n",
       "4   would, person, one, time, think, like, could, ...      -3.819622039794922\n",
       "5   person, im, u, gay, writing, known, tell, ship...      -3.759852170944214\n",
       "6   person, keys, w, h, url, price, ft, bo, blue, ...     -3.5882997512817383\n",
       "7   person, vs, team, persons, 2, round, 1, 3, sea...     -3.5339274406433105\n",
       "8   person, ps4, psn, gt, add, lvl, vog, looking, ...      -3.377411365509033\n",
       "9   person, music, song, video, show, play, watch,...      -3.343665838241577\n",
       "10  sex, guys, girls, women, rough, blood, experie...      -3.329737424850464\n",
       "11  person, damage, 1, dragon, game, 2, 3, range, ...      -3.148256540298462\n",
       "12  person, amazon, atx, video, build, power, tota...     -3.0462512969970703\n",
       "13  person, poker, players, player, 2, hands, plo,...      -2.976595878601074\n",
       "14  money, buy, pay, price, sell, stock, options, ...     -2.9667673110961914\n",
       "15  got, room, person, back, water, night, right, ...      -2.937229871749878\n",
       "16  hair, car, bike, black, person, wear, little, ...     -2.8722970485687256\n",
       "17  im, would, like, looking, help, ive, anyone, k...      -2.703728675842285\n",
       "18  post, please, reddit, url, subreddit, people, ...     -2.6132123470306396\n",
       "19  person, complete, get, auto, ii, grand, empire...      -2.611264705657959\n",
       "20  site, account, want, us, key, trade, trust, na...     -2.5016751289367676\n",
       "21  2, x, person, editionurl, 2url, 3, game, dont,...      -2.299501419067383\n",
       "22  person, pokemon, set, great, box, condition, o...      -2.176974296569824\n",
       "23  humble, person, bundle, 2, weekly, x, android,...      -2.162597179412842\n",
       "24  people, person, god, us, believe, world, state...     -2.0698201656341553\n",
       "25  show, person, thread, tour, goodies, post, off...      -2.058495044708252\n",
       "26  person, iv, 0, one, 5, pokemon, egg, hidden, 4...     -1.9786261320114136\n",
       "27  person, oxycodone, email, cheap, mg, us, table...     -1.9506051540374756\n",
       "28  person, retail, new, sold, 300, 200, 400, used...     -1.8185778856277466\n",
       "29  drive, build, person, pc, windows, computer, l...     -1.8034415245056152\n",
       "30  person, deck, cards, ich, 1x, decks, card, mar...      -1.731981635093689\n",
       "31  day, ive, weight, eat, im, days, eating, food,...     -1.5889886617660522\n",
       "32  got, didnt, said, told, girl, went, back, firs...     -1.4661839008331299\n",
       "33  game, play, games, playing, players, team, get...     -1.0948692560195923\n",
       "34  person, light, mass, army, travel, armor, forc...     -0.9365605711936951\n",
       "35  read, like, book, reading, see, writing, books...     -0.7167130708694458\n",
       "36  ’, ”, “, mom, family, little, dog, two, man, f...     -0.5871524214744568\n",
       "37  person, earplugs, using, text, code, need, use...    -0.21624934673309326\n",
       "38  im, year, job, work, school, years, college, w...    -0.05084387585520744\n",
       "39  im, dont, like, know, get, want, really, feel,...        1.07992684841156"
      ]
     },
     "execution_count": 10,
     "metadata": {},
     "output_type": "execute_result"
    }
   ],
   "source": [
    "slda_coefficients = model.get_regression_coef(0)\n",
    "data = []\n",
    "for k in range(model.k):\n",
    "    top_words = model.get_topic_words(k, top_n=40)\n",
    "    words = [word for (word, float) in top_words]\n",
    "    words = \", \".join(words)\n",
    "    data.append([words, slda_coefficients[k]])\n",
    "    \n",
    "indices = np.array(slda_coefficients).argsort()\n",
    "data = np.array(data)\n",
    "data = data[indices]\n",
    "\n",
    "pd.DataFrame(data, columns=[\"Topic\", \"Suicidality Coefficient\"])"
   ]
  },
  {
   "cell_type": "code",
   "execution_count": 11,
   "metadata": {},
   "outputs": [
    {
     "name": "stdout",
     "output_type": "stream",
     "text": [
      "im, dont, like, know, get, want, really, feel, ive, people, cant, think, one, even, time, going, much, life, never, good, go, way, things, someone, always, make, need, love, say, doesnt, friends, still, thing, right, anything, ill, ever, tell, every, something\n"
     ]
    }
   ],
   "source": [
    "# Uncomment to print example of overly negative topic\n",
    "print(data[np.shape(data)[0]-1][0])"
   ]
  },
  {
   "cell_type": "markdown",
   "metadata": {},
   "source": [
    "## sLDA Features: Train"
   ]
  },
  {
   "cell_type": "code",
   "execution_count": 305,
   "metadata": {},
   "outputs": [
    {
     "name": "stderr",
     "output_type": "stream",
     "text": [
      "  0%|          | 4/9326 [00:00<04:46, 32.52it/s]"
     ]
    },
    {
     "name": "stdout",
     "output_type": "stream",
     "text": [
      "Getting topic distributions...\n"
     ]
    },
    {
     "name": "stderr",
     "output_type": "stream",
     "text": [
      "100%|██████████| 9326/9326 [04:12<00:00, 36.89it/s]\n"
     ]
    }
   ],
   "source": [
    "vector_train = slda.get_topic_vecs(model, filtered_data)"
   ]
  },
  {
   "cell_type": "code",
   "execution_count": 306,
   "metadata": {},
   "outputs": [
    {
     "name": "stdout",
     "output_type": "stream",
     "text": [
      "[0.00021011919307056814, 0.0002706496452447027, 0.0009008516208268702, 0.0006931030075065792, 0.12152151018381119, 0.0004159406526014209, 0.0004151506582275033, 0.0006476377020590007, 0.0008511901833117008, 0.03462923318147659, 0.06633228063583374, 0.0010116415796801448, 0.05008717253804207, 0.00040414181421510875, 0.00018693057063501328, 0.00018428926705382764, 0.00047738777357153594, 0.3977835178375244, 0.05093613266944885, 0.000411752873333171, 0.002747786697000265, 0.00032178827677853405, 0.23795880377292633, 0.0012312782928347588, 0.00041770789539441466, 0.0008525617304258049, 0.0011247692164033651, 0.00025776622351258993, 0.0001402874186169356, 0.00019230270117986947, 0.0007692993385717273, 0.0001928988640429452, 0.00012238768977113068, 0.0008457700605504215, 0.017356302589178085, 0.00044697854900732636, 0.005476377438753843, 0.0002934301446657628, 0.0004624654247891158, 0.00041843383223749697]\n"
     ]
    }
   ],
   "source": [
    "#Uncomment to print example feature vector\n",
    "print(vector_train['hw4uh'][0])"
   ]
  },
  {
   "cell_type": "markdown",
   "metadata": {},
   "source": [
    "# BOW"
   ]
  },
  {
   "cell_type": "code",
   "execution_count": 307,
   "metadata": {
    "scrolled": true
   },
   "outputs": [
    {
     "name": "stderr",
     "output_type": "stream",
     "text": [
      "100%|██████████| 9326/9326 [01:09<00:00, 134.27it/s]\n",
      "100%|██████████| 9326/9326 [01:55<00:00, 80.86it/s]\n"
     ]
    }
   ],
   "source": [
    "word2index,index2word = bow.generate_vocabulary(filtered_data)\n",
    "pca_model, vector_train_bow = bow.get_PCA_vectors_from_post_set(filtered_data, word2index)"
   ]
  },
  {
   "cell_type": "markdown",
   "metadata": {},
   "source": [
    "# Post Classifier: Train"
   ]
  },
  {
   "cell_type": "markdown",
   "metadata": {},
   "source": [
    "## Post Classifier: Train"
   ]
  },
  {
   "cell_type": "code",
   "execution_count": 335,
   "metadata": {},
   "outputs": [],
   "source": [
    "def minmax_norm(arr):\n",
    "    \n",
    "    return (arr - np.min(arr))/(np.max(arr) -np.min(arr))"
   ]
  },
  {
   "cell_type": "code",
   "execution_count": 327,
   "metadata": {},
   "outputs": [],
   "source": [
    "#USE JUST SLDA\n",
    "X_train = np.array([ vector_train[key][0] for key in vector_train.keys()])\n",
    "y_train = np.array([ vector_train[key][1] for key in vector_train.keys()])\n",
    "y_train = y_train.reshape(np.shape(y_train)[0])"
   ]
  },
  {
   "cell_type": "code",
   "execution_count": 328,
   "metadata": {},
   "outputs": [],
   "source": [
    "#USE JUST BOW\n",
    "X_train = np.array([ vector_train_bow[key][0] for key in vector_train_bow.keys()])\n",
    "y_train = np.array([ vector_train_bow[key][1] for key in vector_train_bow.keys()])\n",
    "y_train = y_train.reshape(np.shape(y_train)[0])\n"
   ]
  },
  {
   "cell_type": "code",
   "execution_count": 329,
   "metadata": {},
   "outputs": [],
   "source": [
    "#USE SLDA + BOW\n",
    "X_train = np.array([ np.concatenate([minmax_norm(vector_train[key][0]),minmax_norm(vector_train_bow[key][0])]) for key in vector_train.keys()])\n",
    "y_train = np.array([ vector_train[key][1] for key in vector_train.keys()])\n",
    "\n",
    "y_train = y_train.reshape(np.shape(y_train)[0])"
   ]
  },
  {
   "cell_type": "code",
   "execution_count": 330,
   "metadata": {},
   "outputs": [
    {
     "name": "stdout",
     "output_type": "stream",
     "text": [
      "(9326, 80)\n",
      "(9326,)\n"
     ]
    }
   ],
   "source": [
    "print(np.shape(X_train))\n",
    "print(np.shape(y_train))"
   ]
  },
  {
   "cell_type": "markdown",
   "metadata": {},
   "source": [
    "### Logistic Regression"
   ]
  },
  {
   "cell_type": "code",
   "execution_count": 16,
   "metadata": {
    "scrolled": true
   },
   "outputs": [],
   "source": [
    "#UNCOMMENT TO RUN GRID SEARCH CV\n",
    "#p_clf = post_classifier.PostClassification(\"LogReg\")\n",
    "#param_dict = {'C':[0.2,0.5,0.7,1,1.5,2,5]}\n",
    "#p_clf.train_grid_search_CV(X_train, y_train, param_dict, groups=5)\n",
    "\n",
    "#RUN WITH OPTIMAL PARAMETERS\n",
    "p_clf = post_classifier.PostClassification(\"LogReg\")\n",
    "p_clf.train(X_train, y_train)\n"
   ]
  },
  {
   "cell_type": "markdown",
   "metadata": {},
   "source": [
    "### Linear SVM"
   ]
  },
  {
   "cell_type": "code",
   "execution_count": null,
   "metadata": {},
   "outputs": [],
   "source": [
    "#UNCOMMENT TO RUN GRID SEARCH CV\n",
    "#p_clf = post_classifier.PostClassification(\"LinearSVM\")\n",
    "#param_dict = {'C':[0.2,0.5,1,2]}\n",
    "#p_clf.train_grid_search_CV(X_train, y_train, param_dict, groups=5)\n",
    "\n",
    "p_clf = post_classifier.PostClassification(\"LinearSVM\")\n",
    "p_clf.train(X_train, y_train)"
   ]
  },
  {
   "cell_type": "markdown",
   "metadata": {},
   "source": [
    "### RBF SVM"
   ]
  },
  {
   "cell_type": "code",
   "execution_count": 331,
   "metadata": {},
   "outputs": [],
   "source": [
    "#UNCOMMENT TO RUN GRID SEARCH CV\n",
    "#p_clf = post_classifier.PostClassification(\"RbfSVM\")\n",
    "#param_dict = {'C':[0.5,1,2,5]}\n",
    "#p_clf.train_grid_search_CV(X_train, y_train, param_dict, groups=5)\n",
    "\n",
    "p_clf = post_classifier.PostClassification(\"RbfSVM\")\n",
    "p_clf.train(X_train, y_train)"
   ]
  },
  {
   "cell_type": "markdown",
   "metadata": {},
   "source": [
    "### AdaBoost"
   ]
  },
  {
   "cell_type": "code",
   "execution_count": 154,
   "metadata": {},
   "outputs": [],
   "source": [
    "p_clf = post_classifier.PostClassification(\"AdaBoost\")\n",
    "p_clf.train(X_train, y_train)"
   ]
  },
  {
   "cell_type": "markdown",
   "metadata": {},
   "source": [
    "### Random Forest"
   ]
  },
  {
   "cell_type": "code",
   "execution_count": 131,
   "metadata": {},
   "outputs": [],
   "source": [
    "p_clf = post_classifier.PostClassification(\"RandomForest\")\n",
    "p_clf.train(X_train, y_train)"
   ]
  },
  {
   "cell_type": "markdown",
   "metadata": {},
   "source": [
    "### Multi-layer Perceptron"
   ]
  },
  {
   "cell_type": "code",
   "execution_count": 175,
   "metadata": {
    "scrolled": true
   },
   "outputs": [
    {
     "name": "stdout",
     "output_type": "stream",
     "text": [
      "Iteration 1, loss = 0.46964210\n",
      "Iteration 2, loss = 0.35091662\n",
      "Iteration 3, loss = 0.34005469\n",
      "Iteration 4, loss = 0.33419748\n",
      "Iteration 5, loss = 0.32943707\n",
      "Iteration 6, loss = 0.32526528\n",
      "Iteration 7, loss = 0.32110608\n",
      "Iteration 8, loss = 0.31824231\n",
      "Iteration 9, loss = 0.31452631\n",
      "Iteration 10, loss = 0.31219934\n",
      "Iteration 11, loss = 0.30729025\n",
      "Iteration 12, loss = 0.30477481\n",
      "Iteration 13, loss = 0.29942484\n",
      "Iteration 14, loss = 0.29564128\n",
      "Iteration 15, loss = 0.29164086\n",
      "Iteration 16, loss = 0.28774486\n",
      "Iteration 17, loss = 0.28302086\n",
      "Iteration 18, loss = 0.27658662\n",
      "Iteration 19, loss = 0.27176641\n",
      "Iteration 20, loss = 0.26583517\n",
      "Iteration 21, loss = 0.26321070\n",
      "Iteration 22, loss = 0.25756615\n",
      "Iteration 23, loss = 0.25019726\n",
      "Iteration 24, loss = 0.24730020\n",
      "Iteration 25, loss = 0.24089857\n",
      "Iteration 26, loss = 0.23776378\n",
      "Iteration 27, loss = 0.23006675\n",
      "Iteration 28, loss = 0.23044277\n",
      "Iteration 29, loss = 0.22072927\n",
      "Iteration 30, loss = 0.21657411\n",
      "Iteration 31, loss = 0.21528094\n",
      "Iteration 32, loss = 0.21196233\n",
      "Iteration 33, loss = 0.20596857\n",
      "Iteration 34, loss = 0.20208793\n",
      "Iteration 35, loss = 0.19659434\n",
      "Iteration 36, loss = 0.19802076\n",
      "Iteration 37, loss = 0.19371456\n",
      "Iteration 38, loss = 0.18870546\n",
      "Iteration 39, loss = 0.18170443\n",
      "Iteration 40, loss = 0.17477616\n",
      "Iteration 41, loss = 0.17122112\n",
      "Iteration 42, loss = 0.17978026\n",
      "Iteration 43, loss = 0.17214819\n",
      "Iteration 44, loss = 0.16426733\n",
      "Iteration 45, loss = 0.16433361\n",
      "Iteration 46, loss = 0.16220655\n",
      "Iteration 47, loss = 0.15446737\n",
      "Iteration 48, loss = 0.15136142\n",
      "Iteration 49, loss = 0.15484563\n",
      "Iteration 50, loss = 0.14771460\n",
      "Iteration 51, loss = 0.14650781\n",
      "Iteration 52, loss = 0.14423990\n",
      "Iteration 53, loss = 0.13883830\n",
      "Iteration 54, loss = 0.14077725\n",
      "Iteration 55, loss = 0.13607737\n",
      "Iteration 56, loss = 0.13130429\n",
      "Iteration 57, loss = 0.13713841\n",
      "Iteration 58, loss = 0.12805579\n",
      "Iteration 59, loss = 0.13739321\n",
      "Iteration 60, loss = 0.13901465\n",
      "Iteration 61, loss = 0.14113916\n",
      "Iteration 62, loss = 0.12982211\n",
      "Iteration 63, loss = 0.12863263\n",
      "Iteration 64, loss = 0.11961108\n",
      "Iteration 65, loss = 0.12343675\n",
      "Iteration 66, loss = 0.11886622\n",
      "Iteration 67, loss = 0.11835276\n",
      "Iteration 68, loss = 0.11579417\n",
      "Iteration 69, loss = 0.11198119\n",
      "Iteration 70, loss = 0.10681207\n",
      "Iteration 71, loss = 0.10768323\n",
      "Iteration 72, loss = 0.10402857\n",
      "Iteration 73, loss = 0.10481752\n",
      "Iteration 74, loss = 0.10009777\n",
      "Iteration 75, loss = 0.09563026\n",
      "Iteration 76, loss = 0.09533559\n",
      "Iteration 77, loss = 0.09710490\n",
      "Iteration 78, loss = 0.09511128\n",
      "Iteration 79, loss = 0.09288296\n",
      "Iteration 80, loss = 0.09002148\n",
      "Iteration 81, loss = 0.09124861\n",
      "Iteration 82, loss = 0.13091570\n",
      "Iteration 83, loss = 0.14437696\n",
      "Iteration 84, loss = 0.10619660\n",
      "Iteration 85, loss = 0.09282395\n",
      "Iteration 86, loss = 0.08921638\n",
      "Iteration 87, loss = 0.08635643\n",
      "Iteration 88, loss = 0.08590771\n",
      "Iteration 89, loss = 0.08370497\n",
      "Iteration 90, loss = 0.08257660\n",
      "Iteration 91, loss = 0.08213276\n",
      "Iteration 92, loss = 0.08141776\n",
      "Iteration 93, loss = 0.07922600\n",
      "Iteration 94, loss = 0.07944911\n",
      "Iteration 95, loss = 0.07667178\n",
      "Iteration 96, loss = 0.07450632\n",
      "Iteration 97, loss = 0.07482163\n",
      "Iteration 98, loss = 0.08641499\n",
      "Iteration 99, loss = 0.09035369\n",
      "Iteration 100, loss = 0.07769672\n",
      "Iteration 101, loss = 0.07146784\n",
      "Iteration 102, loss = 0.06932183\n",
      "Iteration 103, loss = 0.06838945\n",
      "Iteration 104, loss = 0.07109667\n",
      "Iteration 105, loss = 0.08187552\n",
      "Iteration 106, loss = 0.11098105\n",
      "Iteration 107, loss = 0.10297013\n",
      "Iteration 108, loss = 0.08112820\n",
      "Iteration 109, loss = 0.07101298\n",
      "Iteration 110, loss = 0.06976639\n",
      "Iteration 111, loss = 0.06319030\n",
      "Iteration 112, loss = 0.06221065\n",
      "Iteration 113, loss = 0.06272115\n",
      "Iteration 114, loss = 0.06107679\n",
      "Iteration 115, loss = 0.05975640\n",
      "Iteration 116, loss = 0.05968686\n",
      "Iteration 117, loss = 0.05767409\n",
      "Iteration 118, loss = 0.05921276\n",
      "Iteration 119, loss = 0.05831808\n",
      "Iteration 120, loss = 0.05611762\n",
      "Iteration 121, loss = 0.05610702\n",
      "Iteration 122, loss = 0.05576445\n",
      "Iteration 123, loss = 0.05832004\n",
      "Iteration 124, loss = 0.05559207\n",
      "Iteration 125, loss = 0.07613343\n",
      "Iteration 126, loss = 0.07679289\n",
      "Iteration 127, loss = 0.07113702\n",
      "Iteration 128, loss = 0.07514003\n",
      "Iteration 129, loss = 0.06521920\n",
      "Iteration 130, loss = 0.06200453\n",
      "Iteration 131, loss = 0.06474439\n",
      "Iteration 132, loss = 0.06012947\n",
      "Iteration 133, loss = 0.06546617\n",
      "Iteration 134, loss = 0.06692793\n",
      "Iteration 135, loss = 0.09547281\n",
      "Training loss did not improve more than tol=0.000100 for 10 consecutive epochs. Stopping.\n"
     ]
    }
   ],
   "source": [
    "#UNCOMMENT TO RUN GRID SEARCH CV\n",
    "#p_clf = post_classifier.PostClassification(\"MLP\")\n",
    "#param_dict = {'hidden_layer_sizes':[(64,64),(64,64,64),(32,32), (32,32,32)], 'learning_rate': ('constant', 'adaptive')}\n",
    "#p_clf.train_grid_search_CV(X_train, y_train, param_dict, groups=5)\n",
    "\n",
    "p_clf = post_classifier.PostClassification(\"MLP\")\n",
    "p_clf.train(X_train, y_train)"
   ]
  },
  {
   "cell_type": "markdown",
   "metadata": {},
   "source": [
    "## Predict Post Classifier: Train"
   ]
  },
  {
   "cell_type": "code",
   "execution_count": 332,
   "metadata": {},
   "outputs": [],
   "source": [
    "y_pred_train = p_clf.test(X_train)"
   ]
  },
  {
   "cell_type": "code",
   "execution_count": 333,
   "metadata": {},
   "outputs": [
    {
     "data": {
      "text/plain": [
       "{'accuracy': 0.7401887197083423,\n",
       " 'precision': 0.29510268562401265,\n",
       " 'recall': 0.8294849023090586,\n",
       " 'f1': 0.4353297599627127}"
      ]
     },
     "execution_count": 333,
     "metadata": {},
     "output_type": "execute_result"
    }
   ],
   "source": [
    "p_clf.get_metrics(y_train, y_pred_train)"
   ]
  },
  {
   "cell_type": "code",
   "execution_count": 334,
   "metadata": {},
   "outputs": [
    {
     "name": "stdout",
     "output_type": "stream",
     "text": [
      "3165\n",
      "1126\n"
     ]
    }
   ],
   "source": [
    "print(sum(y_pred_train))\n",
    "print(sum(y_train))"
   ]
  },
  {
   "cell_type": "markdown",
   "metadata": {},
   "source": [
    "# User Classfier: Train"
   ]
  },
  {
   "cell_type": "markdown",
   "metadata": {},
   "source": [
    "## Aggregate: Train"
   ]
  },
  {
   "cell_type": "code",
   "execution_count": 336,
   "metadata": {},
   "outputs": [
    {
     "name": "stderr",
     "output_type": "stream",
     "text": [
      "100%|██████████| 9326/9326 [00:00<00:00, 1652768.80it/s]\n"
     ]
    }
   ],
   "source": [
    "# change y from a, b, c, d, control to -, 1\n",
    "user_to_y_train = defaultdict(int)\n",
    "for data in tqdm.tqdm(filtered_data.keys()):\n",
    "    user_to_y_train[filtered_data[data][0]] = (1 if filtered_data[data][2] == 'd' else 0)"
   ]
  },
  {
   "cell_type": "code",
   "execution_count": 337,
   "metadata": {},
   "outputs": [],
   "source": [
    "post_to_uypred_train = defaultdict(list)\n",
    "\n",
    "for i, post_id in enumerate(vector_train.keys()):\n",
    "    user_id = filtered_data[post_id][0]\n",
    "    post_to_uypred_train[post_id] = [user_id, y_pred_train[i]]"
   ]
  },
  {
   "cell_type": "code",
   "execution_count": 338,
   "metadata": {},
   "outputs": [
    {
     "name": "stdout",
     "output_type": "stream",
     "text": [
      "Saved aggreagation of user to post labels...\n"
     ]
    }
   ],
   "source": [
    "user_to_post_label_train = aggregate.aggregate_posts(FOLDERPATH, post_to_uypred_train)"
   ]
  },
  {
   "cell_type": "markdown",
   "metadata": {},
   "source": [
    "## Argmax: Train"
   ]
  },
  {
   "cell_type": "code",
   "execution_count": 339,
   "metadata": {},
   "outputs": [],
   "source": [
    "u_clf_train = user_classifier.UserClassification(user_to_post_label_train)\n",
    "user_to_ypred_train = u_clf_train.argmax()"
   ]
  },
  {
   "cell_type": "code",
   "execution_count": 340,
   "metadata": {},
   "outputs": [],
   "source": [
    "user_y_train = []\n",
    "user_y_pred_train = []\n",
    "for user_id in user_to_ypred_train:\n",
    "    user_y_train.append(user_to_y_train[user_id])\n",
    "    user_y_pred_train.append(user_to_ypred_train[user_id])"
   ]
  },
  {
   "cell_type": "code",
   "execution_count": 341,
   "metadata": {},
   "outputs": [
    {
     "data": {
      "text/plain": [
       "{'accuracy': 0.752112676056338,\n",
       " 'precision': 0.4280442804428044,\n",
       " 'recall': 0.8467153284671532,\n",
       " 'f1': 0.5686274509803921}"
      ]
     },
     "execution_count": 341,
     "metadata": {},
     "output_type": "execute_result"
    }
   ],
   "source": [
    "u_clf_train.get_metrics(user_y_train, user_y_pred_train)"
   ]
  },
  {
   "cell_type": "markdown",
   "metadata": {},
   "source": [
    "# Process Data: Test"
   ]
  },
  {
   "cell_type": "code",
   "execution_count": 283,
   "metadata": {},
   "outputs": [
    {
     "name": "stderr",
     "output_type": "stream",
     "text": [
      "100%|██████████| 14447/14447 [00:00<00:00, 2393360.85it/s]\n",
      "100%|██████████| 14447/14447 [00:00<00:00, 78774.13it/s]\n",
      "  0%|          | 0/14447 [00:00<?, ?it/s]"
     ]
    },
    {
     "name": "stdout",
     "output_type": "stream",
     "text": [
      "Flagging empty posts\n",
      "Appending Titles\n",
      "Tokenizing sentences...\n"
     ]
    },
    {
     "name": "stderr",
     "output_type": "stream",
     "text": [
      "100%|██████████| 14447/14447 [00:01<00:00, 10858.82it/s]\n",
      "  1%|          | 131/14447 [00:00<00:10, 1308.87it/s]"
     ]
    },
    {
     "name": "stdout",
     "output_type": "stream",
     "text": [
      "Normalizing...\n",
      "Tokenizing sentences into words...\n"
     ]
    },
    {
     "name": "stderr",
     "output_type": "stream",
     "text": [
      "100%|██████████| 14447/14447 [00:04<00:00, 2910.95it/s]\n",
      "100%|██████████| 6250/6250 [00:00<00:00, 947223.13it/s]"
     ]
    },
    {
     "name": "stdout",
     "output_type": "stream",
     "text": [
      "249\n",
      "6250\n",
      "Filtering posts far away from SW posts...\n",
      "2145\n"
     ]
    },
    {
     "name": "stderr",
     "output_type": "stream",
     "text": [
      "\n"
     ]
    }
   ],
   "source": [
    "POSTPATH2 = './Data/crowd/test/shared_task_posts_test.csv'\n",
    "LABELPATH2 = './Data/crowd/test/crowd_test_C.csv'\n",
    "USERPATH2 = './Data/crowd/test/task_C_test.posts.csv'\n",
    "    \n",
    "user_to_post_test, post_to_words_test, post_to_metadata_test = dataloader.load_posts(POSTPATH2, append_title = True)\n",
    "post_to_label_test = dataloader.load_classification(LABELPATH2, user_to_post_test, post_to_words_test, post_to_metadata_test)\n",
    "filtered_data_test, sw_posts_test, sw_timestamps_test = dataloader.filter_posts(post_to_label_test, post_to_metadata_test, filter_images = True)\n",
    "print(len(filtered_data_test))\n",
    "filtered_data_test = dataloader.filter_near_SW(filtered_data_test, post_to_metadata_test, sw_timestamps_test)\n",
    "print(len(filtered_data_test))\n",
    "\n",
    "filtered_data_test = dataloader.filter_stopwords(filtered_data_test)\n",
    "sw_posts_test = dataloader.filter_stopwords(sw_posts_test)"
   ]
  },
  {
   "cell_type": "code",
   "execution_count": 284,
   "metadata": {},
   "outputs": [],
   "source": [
    "FOLDERPATH2 = './Processing/crowd_processed_test/'\n",
    "dataloader.save_to_folder(FOLDERPATH2, user_to_post_test, post_to_metadata_test, filtered_data_test, sw_posts_test, sw_timestamps_test)"
   ]
  },
  {
   "cell_type": "markdown",
   "metadata": {},
   "source": [
    "# Load Process Data: Test"
   ]
  },
  {
   "cell_type": "code",
   "execution_count": 285,
   "metadata": {},
   "outputs": [],
   "source": [
    "FOLDERPATH2 = './Processing/crowd_processed_test/'\n",
    "user_to_post_test, post_to_metadata_test, filtered_data_test, sw_posts_test, sw_timestamps_test = dataloader.load_from_folder(FOLDERPATH2)"
   ]
  },
  {
   "cell_type": "code",
   "execution_count": 286,
   "metadata": {},
   "outputs": [
    {
     "name": "stdout",
     "output_type": "stream",
     "text": [
      "1749\n",
      "38\n",
      "140\n",
      "218\n",
      "2145\n"
     ]
    }
   ],
   "source": [
    "print(len([filtered_data_test[key] for key in filtered_data_test.keys() if filtered_data_test[key][2] == 'a']))\n",
    "print(len([filtered_data_test[key] for key in filtered_data_test.keys() if filtered_data_test[key][2] == 'b']))\n",
    "print(len([filtered_data_test[key] for key in filtered_data_test.keys() if filtered_data_test[key][2] == 'c']))\n",
    "print(len([filtered_data_test[key] for key in filtered_data_test.keys() if filtered_data_test[key][2] == 'd']))\n",
    "print(len(filtered_data_test))"
   ]
  },
  {
   "cell_type": "markdown",
   "metadata": {},
   "source": [
    "# Feature Extraction: Test"
   ]
  },
  {
   "cell_type": "markdown",
   "metadata": {},
   "source": [
    "## sLDA"
   ]
  },
  {
   "cell_type": "code",
   "execution_count": 342,
   "metadata": {},
   "outputs": [
    {
     "name": "stderr",
     "output_type": "stream",
     "text": [
      "  0%|          | 3/2145 [00:00<01:23, 25.51it/s]"
     ]
    },
    {
     "name": "stdout",
     "output_type": "stream",
     "text": [
      "Getting topic distributions...\n"
     ]
    },
    {
     "name": "stderr",
     "output_type": "stream",
     "text": [
      "100%|██████████| 2145/2145 [01:01<00:00, 35.06it/s]\n"
     ]
    }
   ],
   "source": [
    "X_test, y_test = slda.vectorize_data_set(model, FOLDERPATH2)"
   ]
  },
  {
   "cell_type": "code",
   "execution_count": 343,
   "metadata": {},
   "outputs": [
    {
     "name": "stderr",
     "output_type": "stream",
     "text": [
      "  0%|          | 3/2145 [00:00<01:16, 27.96it/s]"
     ]
    },
    {
     "name": "stdout",
     "output_type": "stream",
     "text": [
      "Getting topic distributions...\n"
     ]
    },
    {
     "name": "stderr",
     "output_type": "stream",
     "text": [
      "100%|██████████| 2145/2145 [00:59<00:00, 35.98it/s]\n"
     ]
    }
   ],
   "source": [
    "vector_test = slda.get_topic_vecs(model, filtered_data_test)"
   ]
  },
  {
   "cell_type": "markdown",
   "metadata": {},
   "source": [
    "## BOW"
   ]
  },
  {
   "cell_type": "code",
   "execution_count": 344,
   "metadata": {},
   "outputs": [
    {
     "name": "stderr",
     "output_type": "stream",
     "text": [
      "100%|██████████| 2145/2145 [00:25<00:00, 83.20it/s]\n"
     ]
    }
   ],
   "source": [
    "_, vector_test_bow = bow.get_PCA_vectors_from_post_set(filtered_data_test, word2index, pca_model=pca_model)"
   ]
  },
  {
   "cell_type": "code",
   "execution_count": 119,
   "metadata": {},
   "outputs": [
    {
     "name": "stderr",
     "output_type": "stream",
     "text": [
      "100%|██████████| 2145/2145 [00:30<00:00, 69.62it/s]\n"
     ]
    }
   ],
   "source": [
    "# USE JUST BOW\n",
    "X_test = np.array([ vector_test_bow[key][0] for key in vector_test_bow.keys()])\n",
    "y_test = np.array([ vector_test_bow[key][1] for key in vector_test_bow.keys()])\n",
    "y_test = y_test.reshape(np.shape(y_test)[0])"
   ]
  },
  {
   "cell_type": "code",
   "execution_count": 345,
   "metadata": {},
   "outputs": [],
   "source": [
    "#USE SLDA + BOW\n",
    "X_test = np.array([ np.concatenate([minmax_norm(vector_test[key][0]),minmax_norm(vector_test_bow[key][0])]) for key in vector_test.keys()])\n",
    "y_test = np.array([ vector_test[key][1] for key in vector_test.keys()])\n",
    "\n",
    "y_test = y_test.reshape(np.shape(y_test)[0])"
   ]
  },
  {
   "cell_type": "code",
   "execution_count": 346,
   "metadata": {},
   "outputs": [
    {
     "name": "stdout",
     "output_type": "stream",
     "text": [
      "(2145, 80)\n",
      "(2145,)\n"
     ]
    }
   ],
   "source": [
    "print(np.shape(X_test))\n",
    "print(np.shape(y_test))"
   ]
  },
  {
   "cell_type": "markdown",
   "metadata": {},
   "source": [
    "# Post Classifier: Test"
   ]
  },
  {
   "cell_type": "markdown",
   "metadata": {},
   "source": [
    "## Predict Post Classifier: Test"
   ]
  },
  {
   "cell_type": "code",
   "execution_count": 347,
   "metadata": {},
   "outputs": [],
   "source": [
    "y_pred_test = p_clf.test(X_test)"
   ]
  },
  {
   "cell_type": "code",
   "execution_count": 348,
   "metadata": {},
   "outputs": [
    {
     "data": {
      "text/plain": [
       "{'accuracy': 0.6041958041958042,\n",
       " 'precision': 0.1377726750861079,\n",
       " 'recall': 0.5504587155963303,\n",
       " 'f1': 0.22038567493112945}"
      ]
     },
     "execution_count": 348,
     "metadata": {},
     "output_type": "execute_result"
    }
   ],
   "source": [
    "p_clf.get_metrics(y_test, y_pred_test)"
   ]
  },
  {
   "cell_type": "code",
   "execution_count": 349,
   "metadata": {},
   "outputs": [
    {
     "name": "stdout",
     "output_type": "stream",
     "text": [
      "871\n",
      "218\n"
     ]
    }
   ],
   "source": [
    "print(sum(y_pred_test))\n",
    "print(sum(y_test))"
   ]
  },
  {
   "cell_type": "markdown",
   "metadata": {},
   "source": [
    "# User Classifier: Test"
   ]
  },
  {
   "cell_type": "markdown",
   "metadata": {},
   "source": [
    "## Aggregate: Test"
   ]
  },
  {
   "cell_type": "code",
   "execution_count": 350,
   "metadata": {},
   "outputs": [
    {
     "name": "stderr",
     "output_type": "stream",
     "text": [
      "100%|██████████| 2145/2145 [00:00<00:00, 564415.44it/s]\n"
     ]
    }
   ],
   "source": [
    "# change y from a, b, c, d, control to -, 1\n",
    "user_to_y_test = defaultdict(int)\n",
    "for data in tqdm.tqdm(filtered_data_test.keys()):\n",
    "    user_to_y_test[filtered_data_test[data][0]] = (1 if filtered_data_test[data][2] == 'd' else 0)"
   ]
  },
  {
   "cell_type": "code",
   "execution_count": 351,
   "metadata": {},
   "outputs": [
    {
     "data": {
      "text/plain": [
       "2145"
      ]
     },
     "execution_count": 351,
     "metadata": {},
     "output_type": "execute_result"
    }
   ],
   "source": [
    "len(filtered_data_test)"
   ]
  },
  {
   "cell_type": "code",
   "execution_count": 352,
   "metadata": {},
   "outputs": [
    {
     "data": {
      "text/plain": [
       "2145"
      ]
     },
     "execution_count": 352,
     "metadata": {},
     "output_type": "execute_result"
    }
   ],
   "source": [
    "len(vector_test)"
   ]
  },
  {
   "cell_type": "code",
   "execution_count": 353,
   "metadata": {},
   "outputs": [],
   "source": [
    "post_to_uypred_test = defaultdict(list)\n",
    "\n",
    "for i, post_id in enumerate(vector_test.keys()):\n",
    "    user_id = filtered_data_test[post_id][0]\n",
    "    post_to_uypred_test[post_id] = [user_id, y_pred_test[i]]"
   ]
  },
  {
   "cell_type": "code",
   "execution_count": 354,
   "metadata": {},
   "outputs": [
    {
     "name": "stdout",
     "output_type": "stream",
     "text": [
      "Saved aggreagation of user to post labels...\n"
     ]
    }
   ],
   "source": [
    "user_to_post_label_test = aggregate.aggregate_posts(FOLDERPATH2, post_to_uypred_test)"
   ]
  },
  {
   "cell_type": "markdown",
   "metadata": {},
   "source": [
    "## Argmax: Test"
   ]
  },
  {
   "cell_type": "code",
   "execution_count": 355,
   "metadata": {},
   "outputs": [],
   "source": [
    "u_clf_test = user_classifier.UserClassification(user_to_post_label_test)\n",
    "user_to_ypred_test = u_clf_test.argmax()"
   ]
  },
  {
   "cell_type": "code",
   "execution_count": 356,
   "metadata": {},
   "outputs": [],
   "source": [
    "user_y_test = []\n",
    "user_y_pred_test = []\n",
    "for user_id in user_to_ypred_test:\n",
    "    user_y_test.append(user_to_y_test[user_id])\n",
    "    user_y_pred_test.append(user_to_ypred_test[user_id])"
   ]
  },
  {
   "cell_type": "code",
   "execution_count": 357,
   "metadata": {},
   "outputs": [
    {
     "data": {
      "text/plain": [
       "{'accuracy': 0.625,\n",
       " 'precision': 0.2602739726027397,\n",
       " 'recall': 0.6129032258064516,\n",
       " 'f1': 0.36538461538461536}"
      ]
     },
     "execution_count": 357,
     "metadata": {},
     "output_type": "execute_result"
    }
   ],
   "source": [
    "u_clf_test.get_metrics(user_y_test, user_y_pred_test)"
   ]
  },
  {
   "cell_type": "markdown",
   "metadata": {},
   "source": [
    "## Threshold: Test"
   ]
  },
  {
   "cell_type": "code",
   "execution_count": 358,
   "metadata": {},
   "outputs": [],
   "source": [
    "u_clf_test = user_classifier.UserClassification(user_to_post_label_test)"
   ]
  },
  {
   "cell_type": "code",
   "execution_count": 359,
   "metadata": {},
   "outputs": [
    {
     "name": "stdout",
     "output_type": "stream",
     "text": [
      "percent:  [0.5  0.51 0.52 0.53 0.54 0.55 0.56 0.57 0.58 0.59 0.6  0.61 0.62 0.63\n",
      " 0.64 0.65 0.66 0.67 0.68 0.69 0.7  0.71 0.72 0.73 0.74 0.75 0.76 0.77\n",
      " 0.78 0.79 0.8  0.81 0.82 0.83 0.84 0.85 0.86 0.87 0.88 0.89 0.9  0.91\n",
      " 0.92 0.93 0.94 0.95 0.96 0.97 0.98 0.99 1.  ]\n",
      "f_score:  [0.3673469387755102, 0.3673469387755102, 0.3673469387755102, 0.37500000000000006, 0.37894736842105264, 0.37894736842105264, 0.3516483516483517, 0.3333333333333333, 0.34090909090909094, 0.34090909090909094, 0.3488372093023256, 0.3488372093023256, 0.3488372093023256, 0.3571428571428572, 0.36585365853658536, 0.36585365853658536, 0.36585365853658536, 0.3466666666666667, 0.3466666666666667, 0.3611111111111111, 0.3714285714285714, 0.3714285714285714, 0.3768115942028986, 0.3768115942028986, 0.3768115942028986, 0.3880597014925373, 0.3880597014925373, 0.3880597014925373, 0.3880597014925373, 0.3880597014925373, 0.37500000000000006, 0.37500000000000006, 0.37500000000000006, 0.37500000000000006, 0.3870967741935484, 0.3870967741935484, 0.3870967741935484, 0.3870967741935484, 0.3870967741935484, 0.36065573770491804, 0.36065573770491804, 0.36065573770491804, 0.36065573770491804, 0.36065573770491804, 0.36065573770491804, 0.36065573770491804, 0.36065573770491804, 0.36065573770491804, 0.36065573770491804, 0.36065573770491804, 0.0]\n",
      "max:  0.75\n"
     ]
    },
    {
     "name": "stderr",
     "output_type": "stream",
     "text": [
      "/home/dylfox21/miniconda2/envs/cmsc773/lib/python3.8/site-packages/sklearn/metrics/_classification.py:1272: UndefinedMetricWarning: Precision is ill-defined and being set to 0.0 due to no predicted samples. Use `zero_division` parameter to control this behavior.\n",
      "  _warn_prf(average, modifier, msg_start, len(result))\n"
     ]
    },
    {
     "data": {
      "image/png": "[encoded data removed]",
      "text/plain": [
       "<Figure size 432x288 with 1 Axes>"
      ]
     },
     "metadata": {
      "needs_background": "light"
     },
     "output_type": "display_data"
    },
    {
     "data": {
      "text/plain": [
       "{'accuracy': 0.7670454545454546,\n",
       " 'precision': 0.3611111111111111,\n",
       " 'recall': 0.41935483870967744,\n",
       " 'f1': 0.3880597014925373}"
      ]
     },
     "execution_count": 359,
     "metadata": {},
     "output_type": "execute_result"
    }
   ],
   "source": [
    "u_clf_test.find_threshold(user_to_y_test)"
   ]
  },
  {
   "cell_type": "code",
   "execution_count": 371,
   "metadata": {},
   "outputs": [],
   "source": [
    "user_to_ypred_test = u_clf_test.minimum(1)"
   ]
  },
  {
   "cell_type": "code",
   "execution_count": 372,
   "metadata": {},
   "outputs": [],
   "source": [
    "user_y_test = []\n",
    "user_y_pred_test = []\n",
    "for user_id in user_to_ypred_test:\n",
    "    user_y_test.append(user_to_y_test[user_id])\n",
    "    user_y_pred_test.append(user_to_ypred_test[user_id])"
   ]
  },
  {
   "cell_type": "code",
   "execution_count": 373,
   "metadata": {},
   "outputs": [
    {
     "data": {
      "text/plain": [
       "{'accuracy': 0.23863636363636365,\n",
       " 'precision': 0.16774193548387098,\n",
       " 'recall': 0.8387096774193549,\n",
       " 'f1': 0.2795698924731183}"
      ]
     },
     "execution_count": 373,
     "metadata": {},
     "output_type": "execute_result"
    }
   ],
   "source": [
    "u_clf_test.get_metrics(user_y_test, user_y_pred_test)"
   ]
  },
  {
   "cell_type": "code",
   "execution_count": null,
   "metadata": {},
   "outputs": [],
   "source": []
  },
  {
   "cell_type": "code",
   "execution_count": null,
   "metadata": {},
   "outputs": [],
   "source": []
  }
 ],
 "metadata": {
  "kernelspec": {
   "display_name": "CMSC773",
   "language": "python",
   "name": "cmsc773"
  },
  "language_info": {
   "codemirror_mode": {
    "name": "ipython",
    "version": 3
   },
   "file_extension": ".py",
   "mimetype": "text/x-python",
   "name": "python",
   "nbconvert_exporter": "python",
   "pygments_lexer": "ipython3",
   "version": "3.8.1"
  }
 },
 "nbformat": 4,
 "nbformat_minor": 2
}
