{
 "cells": [
  {
   "cell_type": "markdown",
   "metadata": {
    "ExecuteTime": {
     "end_time": "2020-05-06T03:34:51.041179Z",
     "start_time": "2020-05-06T03:34:44.180652Z"
    }
   },
   "source": [
    "# Install"
   ]
  },
  {
   "cell_type": "code",
   "execution_count": null,
   "metadata": {
    "ExecuteTime": {
     "end_time": "2020-05-11T19:40:04.385254Z",
     "start_time": "2020-05-11T19:40:04.290377Z"
    }
   },
   "outputs": [],
   "source": [
    "# Libraries you might not have\n",
    "# !python3 -m pip install --upgrade nbconvert \n",
    "# !python3 -m pip install --upgrade nbstripout \n",
    "# !python -m pip install tomotopy\n",
    "# !python -m pip install sklearn"
   ]
  },
  {
   "cell_type": "markdown",
   "metadata": {},
   "source": [
    "# Imports"
   ]
  },
  {
   "cell_type": "code",
   "execution_count": null,
   "metadata": {
    "ExecuteTime": {
     "end_time": "2020-05-11T18:49:26.940746Z",
     "start_time": "2020-05-11T18:49:22.371624Z"
    }
   },
   "outputs": [],
   "source": [
    "import nltk\n",
    "# Things to install from nltk\n",
    "nltk.download('punkt')\n",
    "nltk.download('stopwords')"
   ]
  },
  {
   "cell_type": "code",
   "execution_count": null,
   "metadata": {
    "ExecuteTime": {
     "end_time": "2020-05-11T18:49:29.047506Z",
     "start_time": "2020-05-11T18:49:26.957499Z"
    }
   },
   "outputs": [],
   "source": [
    "%load_ext autoreload\n",
    "%autoreload 2\n",
    "\n",
    "import tomotopy as tp\n",
    "from itertools import chain\n",
    "import tqdm\n",
    "import pandas as pd\n",
    "import numpy as np\n",
    "from collections import defaultdict\n",
    "\n",
    "import dataloader\n",
    "import bow\n",
    "import slda\n",
    "import post_classifier\n",
    "import aggregate\n",
    "import user_classifier"
   ]
  },
  {
   "cell_type": "markdown",
   "metadata": {},
   "source": [
    "# Process Train Data"
   ]
  },
  {
   "cell_type": "code",
   "execution_count": null,
   "metadata": {
    "ExecuteTime": {
     "end_time": "2020-05-11T18:49:29.172291Z",
     "start_time": "2020-05-11T18:49:29.070563Z"
    },
    "scrolled": true
   },
   "outputs": [],
   "source": [
    "# Uncomment below to process data if you have not already\n",
    "\n",
    "# POSTPATH = './Data/crowd/train/shared_task_posts.csv'\n",
    "# LABELPATH = './Data/crowd/train/crowd_train.csv'\n",
    "# USERPATH = './Data/crowd/train/task_C_train.posts.csv'\n",
    "\n",
    "# users = dataloader.load_user_subset_from_train(USERPATH, subset = 1000)\n",
    "    \n",
    "# user_to_post, post_to_words, post_to_metadata = dataloader.load_posts(POSTPATH, user_subset = users, append_title = True)\n",
    "# post_to_label = dataloader.load_classification(LABELPATH, user_to_post, post_to_words, post_to_metadata, user_subset = users)\n",
    "# filtered_data, sw_posts, sw_timestamps = dataloader.filter_posts(post_to_label, post_to_metadata)\n",
    "# print(len(filtered_data))\n",
    "# filtered_data = dataloader.filter_near_SW(filtered_data,post_to_metadata, sw_timestamps)\n",
    "# print(len(filtered_data))\n",
    "\n",
    "# filtered_data = dataloader.filter_stopwords(filtered_data)\n",
    "# sw_posts = dataloader.filter_stopwords(sw_posts)"
   ]
  },
  {
   "cell_type": "code",
   "execution_count": null,
   "metadata": {
    "ExecuteTime": {
     "end_time": "2020-05-11T18:49:29.292336Z",
     "start_time": "2020-05-11T18:49:29.176054Z"
    }
   },
   "outputs": [],
   "source": [
    "# FOLDERPATH = './Processing/crowd_processed/'\n",
    "# dataloader.save_to_folder(FOLDERPATH, user_to_post, post_to_metadata, filtered_data, sw_posts, sw_timestamps)"
   ]
  },
  {
   "cell_type": "markdown",
   "metadata": {},
   "source": [
    "# Load Process Train Data"
   ]
  },
  {
   "cell_type": "code",
   "execution_count": null,
   "metadata": {
    "ExecuteTime": {
     "end_time": "2020-05-11T18:49:31.264286Z",
     "start_time": "2020-05-11T18:49:29.308546Z"
    }
   },
   "outputs": [],
   "source": [
    "FOLDERPATH = './Processing/crowd_processed/'\n",
    "user_to_post, post_to_metadata, filtered_data, sw_posts, sw_timestamps = dataloader.load_from_folder(FOLDERPATH)"
   ]
  },
  {
   "cell_type": "code",
   "execution_count": null,
   "metadata": {
    "ExecuteTime": {
     "end_time": "2020-05-11T18:49:31.511126Z",
     "start_time": "2020-05-11T18:49:31.271140Z"
    }
   },
   "outputs": [],
   "source": [
    "print(len([filtered_data[key] for key in filtered_data.keys() if filtered_data[key][2] == 'a']))\n",
    "print(len([filtered_data[key] for key in filtered_data.keys() if filtered_data[key][2] == 'b']))\n",
    "print(len([filtered_data[key] for key in filtered_data.keys() if filtered_data[key][2] == 'c']))\n",
    "print(len([filtered_data[key] for key in filtered_data.keys() if filtered_data[key][2] == 'd']))\n",
    "print(len(filtered_data))"
   ]
  },
  {
   "cell_type": "markdown",
   "metadata": {},
   "source": [
    "# SLDA Model: Train"
   ]
  },
  {
   "cell_type": "markdown",
   "metadata": {},
   "source": [
    "## Train Topic Model"
   ]
  },
  {
   "cell_type": "code",
   "execution_count": null,
   "metadata": {
    "ExecuteTime": {
     "end_time": "2020-05-11T18:53:53.478572Z",
     "start_time": "2020-05-11T18:49:31.544209Z"
    }
   },
   "outputs": [],
   "source": [
    "model = slda.train_slda_model_from_data(filtered_data, topics=40)"
   ]
  },
  {
   "cell_type": "markdown",
   "metadata": {},
   "source": [
    "## Topic Model Outputs"
   ]
  },
  {
   "cell_type": "code",
   "execution_count": null,
   "metadata": {
    "ExecuteTime": {
     "end_time": "2020-05-11T18:53:53.896765Z",
     "start_time": "2020-05-11T18:53:53.571565Z"
    }
   },
   "outputs": [],
   "source": [
    "slda_coefficients = model.get_regression_coef(0)\n",
    "data = []\n",
    "for k in range(model.k):\n",
    "    top_words = model.get_topic_words(k, top_n=40)\n",
    "    words = [word for (word, float) in top_words]\n",
    "    words = \", \".join(words)\n",
    "    data.append([words, slda_coefficients[k]])\n",
    "    \n",
    "indices = np.array(slda_coefficients).argsort()\n",
    "data = np.array(data)\n",
    "data = data[indices]\n",
    "\n",
    "pd.DataFrame(data, columns=[\"Topic\", \"Suicidality Coefficient\"])"
   ]
  },
  {
   "cell_type": "code",
   "execution_count": null,
   "metadata": {
    "ExecuteTime": {
     "end_time": "2020-05-11T18:53:54.160770Z",
     "start_time": "2020-05-11T18:53:53.929029Z"
    },
    "scrolled": true
   },
   "outputs": [],
   "source": [
    "# Uncomment to print example of overly negative topic\n",
    "# print(data[39][0])"
   ]
  },
  {
   "cell_type": "markdown",
   "metadata": {},
   "source": [
    "## sLDA Features: Train"
   ]
  },
  {
   "cell_type": "code",
   "execution_count": null,
   "metadata": {
    "ExecuteTime": {
     "end_time": "2020-05-11T19:25:15.722445Z",
     "start_time": "2020-05-11T18:53:54.165996Z"
    },
    "scrolled": true
   },
   "outputs": [],
   "source": [
    "vector_train = slda.get_topic_vecs(model, filtered_data)"
   ]
  },
  {
   "cell_type": "code",
   "execution_count": null,
   "metadata": {
    "ExecuteTime": {
     "end_time": "2020-05-11T19:25:15.776645Z",
     "start_time": "2020-05-11T19:25:15.726654Z"
    }
   },
   "outputs": [],
   "source": [
    "#Uncomment to print example feature vector\n",
    "# print(vector['hw4uh'][0])"
   ]
  },
  {
   "cell_type": "markdown",
   "metadata": {},
   "source": [
    "# BOW"
   ]
  },
  {
   "cell_type": "code",
   "execution_count": null,
   "metadata": {
    "ExecuteTime": {
     "end_time": "2020-05-11T19:25:15.817898Z",
     "start_time": "2020-05-11T19:25:15.782798Z"
    }
   },
   "outputs": [],
   "source": [
    "# word2index,index2word = bow.generate_vocabulary(filtered_data)\n",
    "# vector2 = bow.get_vectors_from_post_set(filtered_data, word2index)"
   ]
  },
  {
   "cell_type": "markdown",
   "metadata": {},
   "source": [
    "# Post Classifier: Train"
   ]
  },
  {
   "cell_type": "markdown",
   "metadata": {},
   "source": [
    "## Post Classifier: Train"
   ]
  },
  {
   "cell_type": "code",
   "execution_count": null,
   "metadata": {
    "ExecuteTime": {
     "end_time": "2020-05-11T19:25:16.048759Z",
     "start_time": "2020-05-11T19:25:15.822540Z"
    }
   },
   "outputs": [],
   "source": [
    "X_train = np.array([ vector_train[key][0] for key in vector_train.keys()])\n",
    "y_train = np.array([ vector_train[key][1] for key in vector_train.keys()])\n",
    "y_train = y_train.reshape(np.shape(y_train)[0])"
   ]
  },
  {
   "cell_type": "code",
   "execution_count": null,
   "metadata": {
    "ExecuteTime": {
     "end_time": "2020-05-11T19:25:16.099611Z",
     "start_time": "2020-05-11T19:25:16.060183Z"
    }
   },
   "outputs": [],
   "source": [
    "print(np.shape(X_train))\n",
    "print(np.shape(y_train))"
   ]
  },
  {
   "cell_type": "code",
   "execution_count": null,
   "metadata": {
    "ExecuteTime": {
     "end_time": "2020-05-11T19:30:06.012331Z",
     "start_time": "2020-05-11T19:28:39.692629Z"
    }
   },
   "outputs": [],
   "source": [
    "p_clf = post_classifier.PostClassification(\"RbfSVM\")\n",
    "p_clf.train(X_train, y_train)"
   ]
  },
  {
   "cell_type": "markdown",
   "metadata": {},
   "source": [
    "## Predict Post Classifier: Train"
   ]
  },
  {
   "cell_type": "code",
   "execution_count": null,
   "metadata": {
    "ExecuteTime": {
     "end_time": "2020-05-11T19:30:47.957707Z",
     "start_time": "2020-05-11T19:30:06.015835Z"
    }
   },
   "outputs": [],
   "source": [
    "y_pred_train = p_clf.test(X_train)"
   ]
  },
  {
   "cell_type": "code",
   "execution_count": null,
   "metadata": {
    "ExecuteTime": {
     "end_time": "2020-05-11T19:30:48.061720Z",
     "start_time": "2020-05-11T19:30:47.965685Z"
    }
   },
   "outputs": [],
   "source": [
    "p_clf.get_metrics(y_train, y_pred_train)"
   ]
  },
  {
   "cell_type": "code",
   "execution_count": null,
   "metadata": {
    "ExecuteTime": {
     "end_time": "2020-05-11T19:30:48.217589Z",
     "start_time": "2020-05-11T19:30:48.072694Z"
    }
   },
   "outputs": [],
   "source": [
    "print(sum(y_pred_train))\n",
    "print(sum(y_train))"
   ]
  },
  {
   "cell_type": "markdown",
   "metadata": {},
   "source": [
    "# User Classfier: Train"
   ]
  },
  {
   "cell_type": "markdown",
   "metadata": {},
   "source": [
    "## Aggreagate: Train"
   ]
  },
  {
   "cell_type": "code",
   "execution_count": null,
   "metadata": {
    "ExecuteTime": {
     "end_time": "2020-05-11T19:30:48.722449Z",
     "start_time": "2020-05-11T19:30:48.223300Z"
    }
   },
   "outputs": [],
   "source": [
    "# change y from a, b, c, d, control to -, 1\n",
    "user_to_y_train = defaultdict(int)\n",
    "for data in tqdm.tqdm(filtered_data.keys()):\n",
    "    user_to_y_train[filtered_data[data][0]] = (1 if filtered_data[data][2] == 'd' else 0)"
   ]
  },
  {
   "cell_type": "code",
   "execution_count": null,
   "metadata": {
    "ExecuteTime": {
     "end_time": "2020-05-11T19:42:59.950730Z",
     "start_time": "2020-05-11T19:42:59.801618Z"
    }
   },
   "outputs": [],
   "source": [
    "post_to_uypred_train = defaultdict(list)\n",
    "\n",
    "for i, post_id in enumerate(vector_train.keys()):\n",
    "    user_id = filtered_data[post_id][0]\n",
    "    post_to_uypred_train[post_id] = [user_id, y_pred_train[i]]"
   ]
  },
  {
   "cell_type": "code",
   "execution_count": null,
   "metadata": {
    "ExecuteTime": {
     "end_time": "2020-05-11T19:43:32.174196Z",
     "start_time": "2020-05-11T19:43:31.928392Z"
    }
   },
   "outputs": [],
   "source": [
    "user_to_post_label_train = aggregate.aggregate_posts(FOLDERPATH, post_to_uypred_train)"
   ]
  },
  {
   "cell_type": "markdown",
   "metadata": {
    "ExecuteTime": {
     "end_time": "2020-05-07T01:12:29.312097Z",
     "start_time": "2020-05-07T01:12:28.337378Z"
    }
   },
   "source": [
    "## Argmax: Train"
   ]
  },
  {
   "cell_type": "code",
   "execution_count": null,
   "metadata": {
    "ExecuteTime": {
     "end_time": "2020-05-11T19:43:51.796168Z",
     "start_time": "2020-05-11T19:43:51.673465Z"
    }
   },
   "outputs": [],
   "source": [
    "u_clf_train = user_classifier.UserClassification(user_to_post_label_train)\n",
    "user_to_ypred_train = u_clf_train.argmax()"
   ]
  },
  {
   "cell_type": "code",
   "execution_count": null,
   "metadata": {
    "ExecuteTime": {
     "end_time": "2020-05-11T19:44:48.325227Z",
     "start_time": "2020-05-11T19:44:48.255664Z"
    }
   },
   "outputs": [],
   "source": [
    "user_y_train = []\n",
    "user_y_pred_train = []\n",
    "for user_id in user_to_ypred_train:\n",
    "    user_y_train.append(user_to_y_train[user_id])\n",
    "    user_y_pred_train.append(user_to_ypred_train[user_id])"
   ]
  },
  {
   "cell_type": "code",
   "execution_count": null,
   "metadata": {
    "ExecuteTime": {
     "end_time": "2020-05-11T19:45:07.550375Z",
     "start_time": "2020-05-11T19:45:07.437917Z"
    }
   },
   "outputs": [],
   "source": [
    "u_clf_train.get_metrics(user_y_train, user_y_pred_train)"
   ]
  },
  {
   "cell_type": "markdown",
   "metadata": {},
   "source": [
    "# Process Data: Test"
   ]
  },
  {
   "cell_type": "code",
   "execution_count": null,
   "metadata": {
    "ExecuteTime": {
     "end_time": "2020-05-11T20:25:01.635603Z",
     "start_time": "2020-05-11T20:25:01.552486Z"
    }
   },
   "outputs": [],
   "source": [
    "POSTPATH2 = './Data/crowd/test/shared_task_posts_test.csv'\n",
    "LABELPATH2 = './Data/crowd/test/crowd_test_C.csv'\n",
    "USERPATH2 = './Data/crowd/test/task_C_test.posts.csv'\n",
    "    \n",
    "user_to_post_test, post_to_words_test, post_to_metadata_test = dataloader.load_posts(POSTPATH2, append_title = True)\n",
    "post_to_label_test = dataloader.load_classification(LABELPATH2, user_to_post_test, post_to_words_test, post_to_metadata_test)\n",
    "filtered_data_test, sw_posts_test, sw_timestamps_test = dataloader.filter_posts(post_to_label_test, post_to_metadata_test)\n",
    "print(len(filtered_data_test))\n",
    "filtered_data_test = dataloader.filter_near_SW(filtered_data_test, post_to_metadata_test, sw_timestamps_test)\n",
    "print(len(filtered_data_test))\n",
    "\n",
    "filtered_data_test = dataloader.filter_stopwords(filtered_data_test)\n",
    "sw_posts_test = dataloader.filter_stopwords(sw_posts_test)"
   ]
  },
  {
   "cell_type": "code",
   "execution_count": null,
   "metadata": {
    "ExecuteTime": {
     "end_time": "2020-05-11T20:21:59.857202Z",
     "start_time": "2020-05-11T20:21:59.489006Z"
    }
   },
   "outputs": [],
   "source": [
    "FOLDERPATH2 = './Processing/crowd_processed_test/'\n",
    "dataloader.save_to_folder(FOLDERPATH2, user_to_post_test, post_to_metadata_test, filtered_data_test, sw_posts_test, sw_timestamps_test)"
   ]
  },
  {
   "cell_type": "markdown",
   "metadata": {},
   "source": [
    "# Load Process Data: Test"
   ]
  },
  {
   "cell_type": "code",
   "execution_count": null,
   "metadata": {
    "ExecuteTime": {
     "end_time": "2020-05-11T21:33:14.067615Z",
     "start_time": "2020-05-11T21:33:13.245866Z"
    }
   },
   "outputs": [],
   "source": [
    "FOLDERPATH2 = './Processing/crowd_processed_test/'\n",
    "user_to_post_test, post_to_metadata_test, filtered_data_test, sw_posts_test, sw_timestamps_test = dataloader.load_from_folder(FOLDERPATH2)"
   ]
  },
  {
   "cell_type": "code",
   "execution_count": null,
   "metadata": {
    "ExecuteTime": {
     "end_time": "2020-05-11T21:33:16.914055Z",
     "start_time": "2020-05-11T21:33:16.625492Z"
    }
   },
   "outputs": [],
   "source": [
    "print(len([filtered_data_test[key] for key in filtered_data_test.keys() if filtered_data_test[key][2] == 'a']))\n",
    "print(len([filtered_data_test[key] for key in filtered_data_test.keys() if filtered_data_test[key][2] == 'b']))\n",
    "print(len([filtered_data_test[key] for key in filtered_data_test.keys() if filtered_data_test[key][2] == 'c']))\n",
    "print(len([filtered_data_test[key] for key in filtered_data_test.keys() if filtered_data_test[key][2] == 'd']))\n",
    "print(len(filtered_data_test))"
   ]
  },
  {
   "cell_type": "markdown",
   "metadata": {},
   "source": [
    "# SLDA Model: Test"
   ]
  },
  {
   "cell_type": "markdown",
   "metadata": {
    "ExecuteTime": {
     "end_time": "2020-05-11T20:27:45.981475Z",
     "start_time": "2020-05-11T20:27:45.902586Z"
    }
   },
   "source": [
    "## Topic Model: Test"
   ]
  },
  {
   "cell_type": "code",
   "execution_count": null,
   "metadata": {
    "ExecuteTime": {
     "end_time": "2020-05-11T21:54:40.105722Z",
     "start_time": "2020-05-11T21:33:30.454595Z"
    }
   },
   "outputs": [],
   "source": [
    "X_test, y_test = slda.vectorize_data_set(model, FOLDERPATH2)"
   ]
  },
  {
   "cell_type": "code",
   "execution_count": null,
   "metadata": {
    "ExecuteTime": {
     "end_time": "2020-05-11T22:01:08.622810Z",
     "start_time": "2020-05-11T21:54:40.110585Z"
    }
   },
   "outputs": [],
   "source": [
    "vector_test = slda.get_topic_vecs(model, filtered_data_test)"
   ]
  },
  {
   "cell_type": "markdown",
   "metadata": {},
   "source": [
    "# Post Classifier: Test"
   ]
  },
  {
   "cell_type": "markdown",
   "metadata": {},
   "source": [
    "## Predict Post Classifier: Test"
   ]
  },
  {
   "cell_type": "code",
   "execution_count": null,
   "metadata": {
    "ExecuteTime": {
     "end_time": "2020-05-11T22:05:43.922520Z",
     "start_time": "2020-05-11T22:05:34.645528Z"
    }
   },
   "outputs": [],
   "source": [
    "y_pred_test = p_clf.test(X_test)"
   ]
  },
  {
   "cell_type": "code",
   "execution_count": null,
   "metadata": {
    "ExecuteTime": {
     "end_time": "2020-05-11T22:05:44.003548Z",
     "start_time": "2020-05-11T22:05:43.926156Z"
    }
   },
   "outputs": [],
   "source": [
    "p_clf.get_metrics(y_test, y_pred_test)"
   ]
  },
  {
   "cell_type": "code",
   "execution_count": null,
   "metadata": {
    "ExecuteTime": {
     "end_time": "2020-05-11T22:05:44.086119Z",
     "start_time": "2020-05-11T22:05:44.012698Z"
    }
   },
   "outputs": [],
   "source": [
    "print(sum(y_pred_test))\n",
    "print(sum(y_test))"
   ]
  },
  {
   "cell_type": "markdown",
   "metadata": {},
   "source": [
    "# User Classifier: Test"
   ]
  },
  {
   "cell_type": "markdown",
   "metadata": {},
   "source": [
    "## Aggregate: Test"
   ]
  },
  {
   "cell_type": "code",
   "execution_count": null,
   "metadata": {
    "ExecuteTime": {
     "end_time": "2020-05-11T22:11:58.840706Z",
     "start_time": "2020-05-11T22:11:58.655778Z"
    }
   },
   "outputs": [],
   "source": [
    "# change y from a, b, c, d, control to -, 1\n",
    "user_to_y_test = defaultdict(int)\n",
    "for data in tqdm.tqdm(filtered_data_test.keys()):\n",
    "    user_to_y_test[filtered_data_test[data][0]] = (1 if filtered_data_test[data][2] == 'd' else 0)"
   ]
  },
  {
   "cell_type": "code",
   "execution_count": null,
   "metadata": {
    "ExecuteTime": {
     "end_time": "2020-05-11T22:06:53.627660Z",
     "start_time": "2020-05-11T22:06:53.568923Z"
    }
   },
   "outputs": [],
   "source": [
    "len(filtered_data_test)"
   ]
  },
  {
   "cell_type": "code",
   "execution_count": null,
   "metadata": {
    "ExecuteTime": {
     "end_time": "2020-05-11T22:06:54.400569Z",
     "start_time": "2020-05-11T22:06:54.336521Z"
    }
   },
   "outputs": [],
   "source": [
    "len(vector_test)"
   ]
  },
  {
   "cell_type": "code",
   "execution_count": null,
   "metadata": {
    "ExecuteTime": {
     "end_time": "2020-05-11T22:06:56.635495Z",
     "start_time": "2020-05-11T22:06:56.565216Z"
    }
   },
   "outputs": [],
   "source": [
    "post_to_uypred_test = defaultdict(list)\n",
    "\n",
    "for i, post_id in enumerate(vector_test.keys()):\n",
    "    user_id = filtered_data_test[post_id][0]\n",
    "    post_to_uypred_test[post_id] = [user_id, y_pred_test[i]]"
   ]
  },
  {
   "cell_type": "code",
   "execution_count": null,
   "metadata": {
    "ExecuteTime": {
     "end_time": "2020-05-11T22:08:35.387908Z",
     "start_time": "2020-05-11T22:08:35.251624Z"
    }
   },
   "outputs": [],
   "source": [
    "user_to_post_label_test = aggregate.aggregate_posts(FOLDERPATH2, post_to_uypred_test)"
   ]
  },
  {
   "cell_type": "markdown",
   "metadata": {},
   "source": [
    "## Argmax: Test"
   ]
  },
  {
   "cell_type": "code",
   "execution_count": null,
   "metadata": {
    "ExecuteTime": {
     "end_time": "2020-05-11T22:10:20.812887Z",
     "start_time": "2020-05-11T22:10:20.749227Z"
    }
   },
   "outputs": [],
   "source": [
    "u_clf_test = user_classifier.UserClassification(user_to_post_label_test)\n",
    "user_to_ypred_test = u_clf_test.argmax()"
   ]
  },
  {
   "cell_type": "code",
   "execution_count": null,
   "metadata": {
    "ExecuteTime": {
     "end_time": "2020-05-11T22:12:44.698784Z",
     "start_time": "2020-05-11T22:12:44.569879Z"
    }
   },
   "outputs": [],
   "source": [
    "user_y_test = []\n",
    "user_y_pred_test = []\n",
    "for user_id in user_to_ypred_test:\n",
    "    user_y_test.append(user_to_y_test[user_id])\n",
    "    user_y_pred_test.append(user_to_ypred_test[user_id])"
   ]
  },
  {
   "cell_type": "code",
   "execution_count": null,
   "metadata": {
    "ExecuteTime": {
     "end_time": "2020-05-11T22:13:00.190068Z",
     "start_time": "2020-05-11T22:13:00.100403Z"
    }
   },
   "outputs": [],
   "source": [
    "u_clf_test.get_metrics(user_y_test, user_y_pred_test)"
   ]
  },
  {
   "cell_type": "code",
   "execution_count": null,
   "metadata": {},
   "outputs": [],
   "source": []
  }
 ],
 "metadata": {
  "kernelspec": {
   "display_name": "Python 3",
   "language": "python",
   "name": "python3"
  },
  "language_info": {
   "codemirror_mode": {
    "name": "ipython",
    "version": 3
   },
   "file_extension": ".py",
   "mimetype": "text/x-python",
   "name": "python",
   "nbconvert_exporter": "python",
   "pygments_lexer": "ipython3",
   "version": "3.7.5"
  }
 },
 "nbformat": 4,
 "nbformat_minor": 2
}